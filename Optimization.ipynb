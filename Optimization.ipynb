{
 "cells": [
  {
   "cell_type": "markdown",
   "metadata": {},
   "source": [
    "# Optimization using scipy"
   ]
  },
  {
   "cell_type": "code",
   "execution_count": 1,
   "metadata": {},
   "outputs": [],
   "source": [
    "from scipy.optimize import rosen, differential_evolution\n",
    "from scipy.integrate import simps\n",
    "import pandas as pd\n",
    "import numpy as np\n",
    "import numpy.polynomial.polynomial as polynomial\n",
    "from scipy.interpolate import UnivariateSpline\n",
    "import h5py\n",
    "import damask\n",
    "import os\n",
    "import re\n",
    "import matplotlib.pyplot as plt\n",
    "import subprocess\n",
    "import shlex\n",
    "from shutil import copy\n",
    "%matplotlib inline"
   ]
  },
  {
   "cell_type": "code",
   "execution_count": 2,
   "metadata": {},
   "outputs": [],
   "source": [
    "bounds = [(0,2), (0, 2), (0, 2), (0, 2), (0, 2)]\n",
    "#         B, D_a, Q_cl, omega, Q_s, i_sl, rho"
   ]
  },
  {
   "cell_type": "code",
   "execution_count": 6,
   "metadata": {},
   "outputs": [],
   "source": [
    "result = differential_evolution(rosen, bounds)"
   ]
  },
  {
   "cell_type": "code",
   "execution_count": 7,
   "metadata": {},
   "outputs": [],
   "source": [
    "expt_folder = '/nethome/v.shah/Validation_Kees/Ni_30Fe/sample_files/'"
   ]
  },
  {
   "cell_type": "markdown",
   "metadata": {},
   "source": [
    "## Find the range limits for the parameters"
   ]
  },
  {
   "cell_type": "code",
   "execution_count": 2,
   "metadata": {},
   "outputs": [],
   "source": [
    "from damask import ConfigMaterial as cm"
   ]
  },
  {
   "cell_type": "code",
   "execution_count": 3,
   "metadata": {},
   "outputs": [],
   "source": [
    "mat = cm.load('/nethome/v.shah/Validation_Kees/Steels/sample_files/material.yaml')"
   ]
  },
  {
   "cell_type": "code",
   "execution_count": 4,
   "metadata": {},
   "outputs": [
    {
     "data": {
      "text/plain": [
       "{'B': [0.01],\n",
       " 'D': 2e-05,\n",
       " 'D_0': 4e-05,\n",
       " 'D_a': 6.0,\n",
       " 'Gamma_sf_0K': -0.0396,\n",
       " 'dGamma_sf_dT': 0.0002,\n",
       " 'N_sl': [12],\n",
       " 'N_tr': [0],\n",
       " 'N_tw': [0],\n",
       " 'Q_cl': 4e-19,\n",
       " 'omega': 1100.0,\n",
       " 'Q_s': [3e-19],\n",
       " 'b_sl': [2.56e-10],\n",
       " 'f_at': 1.0,\n",
       " 'h_sl_sl': [0.122, 0.122, 0.625, 0.07, 0.137, 0.122],\n",
       " 'i_sl': [18.0],\n",
       " 'output': ['rho_mob', 'rho_dip'],\n",
       " 'p_sl': [0.32],\n",
       " 'q_sl': [1.46],\n",
       " 'rho_dip_0': [100000000000.0],\n",
       " 'rho_mob_0': [100000000000.0],\n",
       " 'tau_0': ['1.5e8'],\n",
       " 'type': 'dislotwin',\n",
       " 'v_0': ['1.0e5'],\n",
       " 'v_sb': 0.0}"
      ]
     },
     "execution_count": 4,
     "metadata": {},
     "output_type": "execute_result"
    }
   ],
   "source": [
    "mat['phase']['Austenite']['mechanics']['plasticity']"
   ]
  },
  {
   "cell_type": "code",
   "execution_count": 6,
   "metadata": {},
   "outputs": [],
   "source": [
    "parameters_range = {\n",
    "    #'B': [1e-03,0.1],\n",
    "    #'D_a': [1.0,8.0],\n",
    "    #'Q_cl': [3e-19,5E-19],\n",
    "    #'omega': [800.0,1200.0]\n",
    "    #'Q_s': [3e-19,5E-19],\n",
    "    #'i_sl': [10.0,20.0],\n",
    "    #'rho_dip_0': [1E9,5E9],\n",
    "    #'tau_0': [1E7,3E8],\n",
    "    #'v_0': [1E1,1E5],\n",
    "    'p_sl': [0.16,0.64],\n",
    "}"
   ]
  },
  {
   "cell_type": "code",
   "execution_count": 7,
   "metadata": {},
   "outputs": [
    {
     "name": "stdout",
     "output_type": "stream",
     "text": [
      "simulation_p_sl_0.16\n"
     ]
    },
    {
     "name": "stderr",
     "output_type": "stream",
     "text": [
      " ██████████████████████████████████████████████████ 100% ETA 0:00:00\n",
      " ██████████████████████████████████████████████████ 100% ETA 0:00:00\n",
      " ██████████████████████████████████████████████████ 100% ETA 0:00:00\n",
      " ██████████████████████████████████████████████████ 100% ETA 0:00:00\n",
      "<ipython-input-7-d69bb8c4bb87>:41: H5pyDeprecationWarning: The default file mode will change to 'r' (read-only) in h5py 3.0. To suppress this warning, pass the mode you need to h5py.File(), or set the global default h5.get_config().default_file_mode, or set the environment variable H5PY_DEFAULT_READONLY=1. Available modes are: 'r', 'r+', 'w', 'w-'/'x', 'a'. See the docs for details.\n",
      "  hdf = h5py.File(d.fname)\n"
     ]
    },
    {
     "name": "stdout",
     "output_type": "stream",
     "text": [
      "simulation_p_sl_0.64\n"
     ]
    },
    {
     "name": "stderr",
     "output_type": "stream",
     "text": [
      " ██████████████████████████████████████████████████ 100% ETA 0:00:00\n",
      " ██████████████████████████████████████████████████ 100% ETA 0:00:00\n",
      " ██████████████████████████████████████████████████ 100% ETA 0:00:00\n",
      " ██████████████████████████████████████████████████ 100% ETA 0:00:00\n",
      "<ipython-input-7-d69bb8c4bb87>:41: H5pyDeprecationWarning: The default file mode will change to 'r' (read-only) in h5py 3.0. To suppress this warning, pass the mode you need to h5py.File(), or set the global default h5.get_config().default_file_mode, or set the environment variable H5PY_DEFAULT_READONLY=1. Available modes are: 'r', 'r+', 'w', 'w-'/'x', 'a'. See the docs for details.\n",
      "  hdf = h5py.File(d.fname)\n"
     ]
    },
    {
     "data": {
      "image/png": "[encoded data removed]",
      "text/plain": [
       "<Figure size 432x288 with 1 Axes>"
      ]
     },
     "metadata": {
      "needs_background": "light"
     },
     "output_type": "display_data"
    },
    {
     "data": {
      "image/png": "[encoded data removed]",
      "text/plain": [
       "<Figure size 432x288 with 1 Axes>"
      ]
     },
     "metadata": {
      "needs_background": "light"
     },
     "output_type": "display_data"
    }
   ],
   "source": [
    "for i in parameters_range.keys():\n",
    "    for r in parameters_range[i]:\n",
    "        sim_path = f'simulation_{i}_{r}'\n",
    "        print(sim_path)\n",
    "        try:\n",
    "            os.mkdir(f'/nethome/v.shah/Validation_Kees/Steels/Optimization_attempts/{sim_path}/')\n",
    "        except:                           #sometimes code wants to rerun same optimizations...\n",
    "            os.chdir(f'/nethome/v.shah/Validation_Kees/Steels/Optimization_attempts/{sim_path}/')\n",
    "            \n",
    "        copy('/nethome/v.shah/Validation_Kees/Steels/sample_files/material.yaml',\\\n",
    "             f'/nethome/v.shah/Validation_Kees/Steels/Optimization_attempts/{sim_path}/material.yaml')\n",
    "        copy('/nethome/v.shah/Validation_Kees/Steels/sample_files/3D_random.vtr',\\\n",
    "             f'/nethome/v.shah/Validation_Kees/Steels/Optimization_attempts/{sim_path}/3D_random.vtr')\n",
    "        copy('/nethome/v.shah/Validation_Kees/Steels/sample_files/tensionX.yaml',\\\n",
    "             f'/nethome/v.shah/Validation_Kees/Steels/Optimization_attempts/{sim_path}/tensionX.yaml')\n",
    "    \n",
    "        os.chdir(f'/nethome/v.shah/Validation_Kees/Steels/Optimization_attempts/{sim_path}/')\n",
    "        from damask import ConfigMaterial as cm\n",
    "        mat = cm.load('material.yaml')\n",
    "        if i != 'rho_dip_0':\n",
    "            mat['phase']['Austenite']['mechanics']['plasticity'][i] = [float(r)]\n",
    "        else:\n",
    "            mat['phase']['Austenite']['mechanics']['plasticity']['rho_dip_0'] = [float(r)]\n",
    "            mat['phase']['Austenite']['mechanics']['plasticity']['rho_mob_0'] = [float(r)]\n",
    "        mat.save('material.yaml')\n",
    "        \n",
    "        cmd = 'DAMASK_grid -l tensionX.yaml -g 3D_random.vtr'\n",
    "        p = subprocess.Popen(cmd,shell=True)\n",
    "        while p.poll() == None:\n",
    "          p.poll()\n",
    "    \n",
    "        d = damask.Result('3D_random_tensionX.hdf5')\n",
    "        d.add_stress_Cauchy()\n",
    "        d.add_strain()\n",
    "        d.add_equivalent_Mises('sigma')\n",
    "        d.add_equivalent_Mises('epsilon_V^0.0(F)')\n",
    "        \n",
    "        stress_list = []\n",
    "        strain_list = []\n",
    "    \n",
    "        hdf = h5py.File(d.fname)\n",
    "        for count,inc in enumerate(d.get_dataset_location('sigma_vM')):\n",
    "            stress_list.append(np.average(hdf[inc]))\n",
    "            strain_path = inc.split('sigma_vM')[0] + 'epsilon_V^0.0(F)_vM'\n",
    "            strain_list.append(np.average(hdf[strain_path]))\n",
    "        \n",
    "        stress_array = np.array(stress_list).reshape((len(stress_list),1))/1E6\n",
    "        strain_array = np.array(strain_list).reshape((len(strain_list),1))\n",
    "        \n",
    "        # plotting stress strain curve\n",
    "        fig = plt.figure()\n",
    "        plt.plot(strain_array,stress_array,color='red')\n",
    "        fig.savefig(f'/nethome/v.shah/Validation_Kees/Steels/Optimization_attempts/{sim_path}/stress_strain.png')"
   ]
  },
  {
   "cell_type": "code",
   "execution_count": 11,
   "metadata": {},
   "outputs": [
    {
     "data": {
      "text/plain": [
       "[<matplotlib.lines.Line2D at 0x152ec7e16760>]"
      ]
     },
     "execution_count": 11,
     "metadata": {},
     "output_type": "execute_result"
    },
    {
     "data": {
      "image/png": "[encoded data removed]",
      "text/plain": [
       "<Figure size 432x288 with 1 Axes>"
      ]
     },
     "metadata": {
      "needs_background": "light"
     },
     "output_type": "display_data"
    }
   ],
   "source": [
    "plt.plot(df['True Strain'],df['True Stress'])"
   ]
  },
  {
   "cell_type": "code",
   "execution_count": 12,
   "metadata": {},
   "outputs": [],
   "source": [
    "df = df.loc[df['True Strain']< 0.2]"
   ]
  },
  {
   "cell_type": "code",
   "execution_count": 12,
   "metadata": {},
   "outputs": [
    {
     "data": {
      "text/html": [
       "<div>\n",
       "<style scoped>\n",
       "    .dataframe tbody tr th:only-of-type {\n",
       "        vertical-align: middle;\n",
       "    }\n",
       "\n",
       "    .dataframe tbody tr th {\n",
       "        vertical-align: top;\n",
       "    }\n",
       "\n",
       "    .dataframe thead th {\n",
       "        text-align: right;\n",
       "    }\n",
       "</style>\n",
       "<table border=\"1\" class=\"dataframe\">\n",
       "  <thead>\n",
       "    <tr style=\"text-align: right;\">\n",
       "      <th></th>\n",
       "      <th>Unnamed: 0</th>\n",
       "      <th>Time (s)</th>\n",
       "      <th>Temperature (°C)</th>\n",
       "      <th>Change in Length (µm)</th>\n",
       "      <th>Force (N)</th>\n",
       "      <th>Change in length (µm)</th>\n",
       "      <th>Abs. Change in length (µm)</th>\n",
       "      <th>Eng. Strain</th>\n",
       "      <th>Eng. Stress (MPa)</th>\n",
       "      <th>Length (µm)</th>\n",
       "      <th>True Strain</th>\n",
       "      <th>True Stress</th>\n",
       "    </tr>\n",
       "  </thead>\n",
       "  <tbody>\n",
       "    <tr>\n",
       "      <th>0</th>\n",
       "      <td>4</td>\n",
       "      <td>0.000958</td>\n",
       "      <td>999.203430</td>\n",
       "      <td>80.129005</td>\n",
       "      <td>10.600432</td>\n",
       "      <td>0.000000</td>\n",
       "      <td>0.000000</td>\n",
       "      <td>0.000000</td>\n",
       "      <td>0.539876</td>\n",
       "      <td>10.000000</td>\n",
       "      <td>0.000000</td>\n",
       "      <td>0.539876</td>\n",
       "    </tr>\n",
       "    <tr>\n",
       "      <th>1</th>\n",
       "      <td>5</td>\n",
       "      <td>0.001274</td>\n",
       "      <td>999.178467</td>\n",
       "      <td>79.966232</td>\n",
       "      <td>10.680738</td>\n",
       "      <td>-0.162773</td>\n",
       "      <td>0.162773</td>\n",
       "      <td>-0.000016</td>\n",
       "      <td>0.543966</td>\n",
       "      <td>9.999837</td>\n",
       "      <td>0.000016</td>\n",
       "      <td>0.543957</td>\n",
       "    </tr>\n",
       "    <tr>\n",
       "      <th>2</th>\n",
       "      <td>6</td>\n",
       "      <td>0.001600</td>\n",
       "      <td>999.369263</td>\n",
       "      <td>80.590210</td>\n",
       "      <td>12.420709</td>\n",
       "      <td>0.461205</td>\n",
       "      <td>-0.461205</td>\n",
       "      <td>0.000046</td>\n",
       "      <td>0.632581</td>\n",
       "      <td>10.000461</td>\n",
       "      <td>-0.000046</td>\n",
       "      <td>0.632611</td>\n",
       "    </tr>\n",
       "    <tr>\n",
       "      <th>3</th>\n",
       "      <td>7</td>\n",
       "      <td>0.001916</td>\n",
       "      <td>999.375610</td>\n",
       "      <td>80.548386</td>\n",
       "      <td>12.376094</td>\n",
       "      <td>0.419380</td>\n",
       "      <td>-0.419380</td>\n",
       "      <td>0.000042</td>\n",
       "      <td>0.630309</td>\n",
       "      <td>10.000419</td>\n",
       "      <td>-0.000042</td>\n",
       "      <td>0.630336</td>\n",
       "    </tr>\n",
       "    <tr>\n",
       "      <th>4</th>\n",
       "      <td>8</td>\n",
       "      <td>0.002231</td>\n",
       "      <td>999.448853</td>\n",
       "      <td>81.161438</td>\n",
       "      <td>13.069108</td>\n",
       "      <td>1.032433</td>\n",
       "      <td>-1.032433</td>\n",
       "      <td>0.000103</td>\n",
       "      <td>0.665604</td>\n",
       "      <td>10.001032</td>\n",
       "      <td>-0.000103</td>\n",
       "      <td>0.665673</td>\n",
       "    </tr>\n",
       "    <tr>\n",
       "      <th>...</th>\n",
       "      <td>...</td>\n",
       "      <td>...</td>\n",
       "      <td>...</td>\n",
       "      <td>...</td>\n",
       "      <td>...</td>\n",
       "      <td>...</td>\n",
       "      <td>...</td>\n",
       "      <td>...</td>\n",
       "      <td>...</td>\n",
       "      <td>...</td>\n",
       "      <td>...</td>\n",
       "      <td>...</td>\n",
       "    </tr>\n",
       "    <tr>\n",
       "      <th>836</th>\n",
       "      <td>840</td>\n",
       "      <td>0.268311</td>\n",
       "      <td>1003.176636</td>\n",
       "      <td>-1719.803467</td>\n",
       "      <td>4865.898926</td>\n",
       "      <td>-1799.932472</td>\n",
       "      <td>1799.932472</td>\n",
       "      <td>-0.179993</td>\n",
       "      <td>247.818197</td>\n",
       "      <td>8.200068</td>\n",
       "      <td>0.198443</td>\n",
       "      <td>203.212595</td>\n",
       "    </tr>\n",
       "    <tr>\n",
       "      <th>837</th>\n",
       "      <td>841</td>\n",
       "      <td>0.268641</td>\n",
       "      <td>1003.176209</td>\n",
       "      <td>-1722.466064</td>\n",
       "      <td>4869.412598</td>\n",
       "      <td>-1802.595070</td>\n",
       "      <td>1802.595070</td>\n",
       "      <td>-0.180260</td>\n",
       "      <td>247.997147</td>\n",
       "      <td>8.197405</td>\n",
       "      <td>0.198767</td>\n",
       "      <td>203.293304</td>\n",
       "    </tr>\n",
       "    <tr>\n",
       "      <th>838</th>\n",
       "      <td>842</td>\n",
       "      <td>0.268957</td>\n",
       "      <td>1003.227600</td>\n",
       "      <td>-1724.882080</td>\n",
       "      <td>4873.200684</td>\n",
       "      <td>-1805.011086</td>\n",
       "      <td>1805.011086</td>\n",
       "      <td>-0.180501</td>\n",
       "      <td>248.190073</td>\n",
       "      <td>8.194989</td>\n",
       "      <td>0.199062</td>\n",
       "      <td>203.391490</td>\n",
       "    </tr>\n",
       "    <tr>\n",
       "      <th>839</th>\n",
       "      <td>843</td>\n",
       "      <td>0.269277</td>\n",
       "      <td>1003.261841</td>\n",
       "      <td>-1727.408325</td>\n",
       "      <td>4876.448730</td>\n",
       "      <td>-1807.537331</td>\n",
       "      <td>1807.537331</td>\n",
       "      <td>-0.180754</td>\n",
       "      <td>248.355494</td>\n",
       "      <td>8.192463</td>\n",
       "      <td>0.199371</td>\n",
       "      <td>203.464312</td>\n",
       "    </tr>\n",
       "    <tr>\n",
       "      <th>840</th>\n",
       "      <td>844</td>\n",
       "      <td>0.269593</td>\n",
       "      <td>1003.059998</td>\n",
       "      <td>-1731.015259</td>\n",
       "      <td>4877.891113</td>\n",
       "      <td>-1811.144264</td>\n",
       "      <td>1811.144264</td>\n",
       "      <td>-0.181114</td>\n",
       "      <td>248.428954</td>\n",
       "      <td>8.188856</td>\n",
       "      <td>0.199811</td>\n",
       "      <td>203.434887</td>\n",
       "    </tr>\n",
       "  </tbody>\n",
       "</table>\n",
       "<p>841 rows × 12 columns</p>\n",
       "</div>"
      ],
      "text/plain": [
       "     Unnamed: 0  Time (s)  Temperature (°C)  Change in Length (µm)  \\\n",
       "0             4  0.000958        999.203430              80.129005   \n",
       "1             5  0.001274        999.178467              79.966232   \n",
       "2             6  0.001600        999.369263              80.590210   \n",
       "3             7  0.001916        999.375610              80.548386   \n",
       "4             8  0.002231        999.448853              81.161438   \n",
       "..          ...       ...               ...                    ...   \n",
       "836         840  0.268311       1003.176636           -1719.803467   \n",
       "837         841  0.268641       1003.176209           -1722.466064   \n",
       "838         842  0.268957       1003.227600           -1724.882080   \n",
       "839         843  0.269277       1003.261841           -1727.408325   \n",
       "840         844  0.269593       1003.059998           -1731.015259   \n",
       "\n",
       "       Force (N)  Change in length (µm)  Abs. Change in length (µm)  \\\n",
       "0      10.600432               0.000000                    0.000000   \n",
       "1      10.680738              -0.162773                    0.162773   \n",
       "2      12.420709               0.461205                   -0.461205   \n",
       "3      12.376094               0.419380                   -0.419380   \n",
       "4      13.069108               1.032433                   -1.032433   \n",
       "..           ...                    ...                         ...   \n",
       "836  4865.898926           -1799.932472                 1799.932472   \n",
       "837  4869.412598           -1802.595070                 1802.595070   \n",
       "838  4873.200684           -1805.011086                 1805.011086   \n",
       "839  4876.448730           -1807.537331                 1807.537331   \n",
       "840  4877.891113           -1811.144264                 1811.144264   \n",
       "\n",
       "     Eng. Strain  Eng. Stress (MPa)  Length (µm)  True Strain  True Stress  \n",
       "0       0.000000           0.539876    10.000000     0.000000     0.539876  \n",
       "1      -0.000016           0.543966     9.999837     0.000016     0.543957  \n",
       "2       0.000046           0.632581    10.000461    -0.000046     0.632611  \n",
       "3       0.000042           0.630309    10.000419    -0.000042     0.630336  \n",
       "4       0.000103           0.665604    10.001032    -0.000103     0.665673  \n",
       "..           ...                ...          ...          ...          ...  \n",
       "836    -0.179993         247.818197     8.200068     0.198443   203.212595  \n",
       "837    -0.180260         247.997147     8.197405     0.198767   203.293304  \n",
       "838    -0.180501         248.190073     8.194989     0.199062   203.391490  \n",
       "839    -0.180754         248.355494     8.192463     0.199371   203.464312  \n",
       "840    -0.181114         248.428954     8.188856     0.199811   203.434887  \n",
       "\n",
       "[841 rows x 12 columns]"
      ]
     },
     "execution_count": 12,
     "metadata": {},
     "output_type": "execute_result"
    }
   ],
   "source": [
    "df"
   ]
  },
  {
   "cell_type": "code",
   "execution_count": 50,
   "metadata": {},
   "outputs": [],
   "source": [
    "c1 = polynomial.polyfit(df['True Strain'],df['True Stress'],deg=17)"
   ]
  },
  {
   "cell_type": "code",
   "execution_count": 51,
   "metadata": {},
   "outputs": [],
   "source": [
    "fit = polynomial.polyval(df['True Strain'], c1)"
   ]
  },
  {
   "cell_type": "code",
   "execution_count": 52,
   "metadata": {},
   "outputs": [
    {
     "data": {
      "text/plain": [
       "[<matplotlib.lines.Line2D at 0x152ec464b310>]"
      ]
     },
     "execution_count": 52,
     "metadata": {},
     "output_type": "execute_result"
    },
    {
     "data": {
      "image/png": "[encoded data removed]",
      "text/plain": [
       "<Figure size 432x288 with 1 Axes>"
      ]
     },
     "metadata": {
      "needs_background": "light"
     },
     "output_type": "display_data"
    }
   ],
   "source": [
    "plt.plot(df['True Strain'],df['True Stress'])\n",
    "plt.plot(df['True Strain'],fit)"
   ]
  },
  {
   "cell_type": "code",
   "execution_count": 13,
   "metadata": {},
   "outputs": [],
   "source": [
    "area = simps(df['True Strain'],df['True Stress'])"
   ]
  },
  {
   "cell_type": "code",
   "execution_count": 14,
   "metadata": {},
   "outputs": [
    {
     "data": {
      "text/plain": [
       "8.31249780923785"
      ]
     },
     "execution_count": 14,
     "metadata": {},
     "output_type": "execute_result"
    }
   ],
   "source": [
    "area"
   ]
  },
  {
   "cell_type": "code",
   "execution_count": 2,
   "metadata": {},
   "outputs": [],
   "source": [
    "def opt_DAMASK(x):\n",
    "    #B = x[0]\n",
    "    #D_a = x[0]\n",
    "    Q_cl = x[0]\n",
    "    omega = x[1]\n",
    "    #Q_s = x[0]\n",
    "    i_sl = x[2]\n",
    "    #p_sl = x[1]\n",
    "    #q_sl = x[2]\n",
    "    #rho = x[3]\n",
    "    #tau_0  = x[4]\n",
    "    #v_0  = x[5]\n",
    "    \n",
    "    #sim_path = f'simulation_{B:.2e}_{D_a:.2e}_{Q_cl:.2e}_{omega:.2e}_{Q_s:.2e}_{i_sl:.2e}_{rho:.2e}'\n",
    "    sim_path = f'simulation_{Q_cl:.2e}_{omega:.2e}_{i_sl:.2e}'\n",
    "    print(sim_path)\n",
    "    try:\n",
    "        os.mkdir(f'/nethome/v.shah/Validation_Kees/Steels/Optimization_attempts/{sim_path}/')\n",
    "    except:                           #sometimes code wants to rerun same optimizations...\n",
    "        os.chdir(f'/nethome/v.shah/Validation_Kees/Steels/Optimization_attempts/{sim_path}/')\n",
    "    copy('/nethome/v.shah/Validation_Kees/Steels/sample_files/material.yaml',f'/nethome/v.shah/Validation_Kees/Steels/Optimization_attempts/{sim_path}/material.yaml')\n",
    "    copy('/nethome/v.shah/Validation_Kees/Steels/sample_files/3D_random.vtr',f'/nethome/v.shah/Validation_Kees/Steels/Optimization_attempts/{sim_path}/3D_random.vtr')\n",
    "    copy('/nethome/v.shah/Validation_Kees/Steels/sample_files/tensionX.yaml',f'/nethome/v.shah/Validation_Kees/Steels/Optimization_attempts/{sim_path}/tensionX.yaml')\n",
    "    \n",
    "    os.chdir(f'/nethome/v.shah/Validation_Kees/Steels/Optimization_attempts/{sim_path}/')\n",
    "    from damask import ConfigMaterial as cm\n",
    "    mat = cm.load('material.yaml')\n",
    "    #mat['phase']['Austenite']['mechanics']['plasticity']['B'] = [float(B)]\n",
    "    #mat['phase']['Austenite']['mechanics']['plasticity']['D_a'] = float(D_a)\n",
    "    mat['phase']['Austenite']['mechanics']['plasticity']['Q_cl'] = float(Q_cl)\n",
    "    mat['phase']['Austenite']['mechanics']['plasticity']['omega'] = float(omega)\n",
    "    #mat['phase']['Austenite']['mechanics']['plasticity']['Q_s'] = [float(Q_s)]\n",
    "    #mat['phase']['Austenite']['mechanics']['plasticity']['i_sl'] = [float(i_sl)]\n",
    "    #mat['phase']['Austenite']['mechanics']['plasticity']['i_sl'] = [float(i_sl)]\n",
    "    #mat['phase']['Austenite']['mechanics']['plasticity']['p_sl'] = [float(p_sl)]\n",
    "    mat['phase']['Austenite']['mechanics']['plasticity']['i_sl'] = [float(i_sl)]\n",
    "    #mat['phase']['Austenite']['mechanics']['plasticity']['tau_0'] = [float(tau_0)]\n",
    "    #mat['phase']['Austenite']['mechanics']['plasticity']['rho_dip_0'] = [float(rho)]\n",
    "    #mat['phase']['Austenite']['mechanics']['plasticity']['rho_mob_0'] = [float(rho)]\n",
    "    #mat['phase']['Austenite']['mechanics']['plasticity']['v_0'] = [float(v_0)]\n",
    "    mat.save('material.yaml')\n",
    "    \n",
    "    cmd = 'DAMASK_grid -l tensionX.yaml -g 3D_random.vtr'\n",
    "    p = subprocess.Popen(cmd,shell=True)\n",
    "    while p.poll() == None:\n",
    "      p.poll()\n",
    "    \n",
    "    d = damask.Result('3D_random_tensionX.hdf5')\n",
    "    d.add_stress_Cauchy()\n",
    "    d.add_strain()\n",
    "    d.add_equivalent_Mises('sigma')\n",
    "    d.add_equivalent_Mises('epsilon_V^0.0(F)')\n",
    "    \n",
    "    stress_list = []\n",
    "    strain_list = []\n",
    "    \n",
    "    hdf = h5py.File(d.fname)\n",
    "    for count,inc in enumerate(d.get_dataset_location('sigma_vM')):\n",
    "        stress_list.append(np.average(hdf[inc]))\n",
    "        strain_path = inc.split('sigma_vM')[0] + 'epsilon_V^0.0(F)_vM'\n",
    "        strain_list.append(np.average(hdf[strain_path]))\n",
    "        \n",
    "    stress_array = np.array(stress_list).reshape((len(stress_list),1))/1E6\n",
    "    strain_array = np.array(strain_list).reshape((len(strain_list),1))\n",
    "    \n",
    "    # fit polynomials and then use least squares\n",
    "    df_sim = pd.DataFrame({'True Strain': strain_list,'True Stress':stress_list})\n",
    "    df_sim = df_sim.loc[df_sim['True Strain']< 0.15]\n",
    "    f = UnivariateSpline(df_sim['True Strain'],df_sim['True Stress'],k=3,s=None)\n",
    "    xnew1 = np.array([0.05,0.1,0.15])\n",
    "    ynew1 = f(xnew1)\n",
    "    \n",
    "#     df = pd.read_excel('/nethome/v.shah/Validation_Kees/Ni_30Fe/sample_files/01_FullStressStrain_Ni30Fe_1000C-1s-1.xlsx',header=4,usecols='A:L',engine='openpyxl')\n",
    "    df = pd.read_csv('/nethome/v.shah/Validation_Kees/Steels/tmp/10779R1-376_DP6_A-1200_1.asc',\\\n",
    "                     header=2,sep='\\\\s+',names=['True Strain','True Stress','Time'],encoding= 'unicode_escape')\n",
    "    df = df.loc[df['True Strain']< 0.6]\n",
    "    c = polynomial.polyfit(df['True Strain'],df['True Stress'],9)\n",
    "    #xnew = np.linspace(0.02,0.15,20)\n",
    "    xnew = np.array([0.05,0.1,0.15])\n",
    "    ynew = polynomial.polyval(xnew,c)\n",
    "    \n",
    "    # plotting stress strain curve\n",
    "    fig = plt.figure()\n",
    "    plt.plot(strain_array,stress_array,color='red')\n",
    "    plt.plot(df['True Strain'],df['True Stress'],color='black')\n",
    "    plt.plot(xnew,ynew,marker='+')\n",
    "    plt.plot(xnew1,ynew1/1E6,marker='o')\n",
    "    fig.savefig(f'/nethome/v.shah/Validation_Kees/Steels/Optimization_attempts/{sim_path}.png')\n",
    "    \n",
    "    area_res = np.sum(np.abs(ynew*1E6 - ynew1))\n",
    "    with open(f'/nethome/v.shah/Validation_Kees/Steels/Optimization_attempts/residual.txt','a') as f:\n",
    "        #f.write(f'\\n {area_res} \\n B={B:.2e}|D_a={D_a:.2e}|Q_cl={Q_cl:.2e}|omega={omega:.2e}|Q_s={Q_s:.2e}|i_sl={i_sl:.2e}|rho={rho:.2e}\\n')\n",
    "        f.write(f'{area_res:.2e} Q_cl: {Q_cl:.2e} omega: {omega:.2e} i_sl: {i_sl:.2e}\\n')\n",
    "\n",
    "    return area_res"
   ]
  },
  {
   "cell_type": "code",
   "execution_count": 4,
   "metadata": {},
   "outputs": [],
   "source": [
    "bounds=[(2.95E-19,3.15E-19),(500.0,800.0),(16.0,20.0)]\n",
    "# D_a, Q_cl, omega, i_sl\n",
    "#bounds = [(3.75e-19,4.5e-19),(0.25,0.5),(1.20,1.7),(1E9,1E11),(0.1E8,10E8),(1.0E4,1.0E6)]\n",
    "# Q_s,p_sl,q_sl,rho_mob_0,tau_0,v0"
   ]
  },
  {
   "cell_type": "code",
   "execution_count": null,
   "metadata": {
    "scrolled": true
   },
   "outputs": [
    {
     "name": "stdout",
     "output_type": "stream",
     "text": [
      "simulation_2.96e-19_5.78e+02_1.75e+01\n"
     ]
    },
    {
     "name": "stderr",
     "output_type": "stream",
     "text": [
      " ██████████████████████████████████████████████████ 100% ETA 0:00:00\n",
      " ██████████████████████████████████████████████████ 100% ETA 0:00:00\n",
      " ██████████████████████████████████████████████████ 100% ETA 0:00:00\n",
      " ██████████████████████████████████████████████████ 100% ETA 0:00:00\n",
      "<ipython-input-2-81460a860a94>:57: H5pyDeprecationWarning: The default file mode will change to 'r' (read-only) in h5py 3.0. To suppress this warning, pass the mode you need to h5py.File(), or set the global default h5.get_config().default_file_mode, or set the environment variable H5PY_DEFAULT_READONLY=1. Available modes are: 'r', 'r+', 'w', 'w-'/'x', 'a'. See the docs for details.\n",
      "  hdf = h5py.File(d.fname)\n"
     ]
    },
    {
     "name": "stdout",
     "output_type": "stream",
     "text": [
      "simulation_3.05e-19_6.93e+02_1.90e+01\n"
     ]
    },
    {
     "name": "stderr",
     "output_type": "stream",
     "text": [
      " ██████████████████████████████████████████████████ 100% ETA 0:00:00\n",
      " ██████████████████████████████████████████████████ 100% ETA 0:00:00\n",
      " ██████████████████████████████████████████████████ 100% ETA 0:00:00\n",
      " ██████████████████████████████████████████████████ 100% ETA 0:00:00\n",
      "<ipython-input-2-81460a860a94>:57: H5pyDeprecationWarning: The default file mode will change to 'r' (read-only) in h5py 3.0. To suppress this warning, pass the mode you need to h5py.File(), or set the global default h5.get_config().default_file_mode, or set the environment variable H5PY_DEFAULT_READONLY=1. Available modes are: 'r', 'r+', 'w', 'w-'/'x', 'a'. See the docs for details.\n",
      "  hdf = h5py.File(d.fname)\n"
     ]
    },
    {
     "name": "stdout",
     "output_type": "stream",
     "text": [
      "simulation_3.05e-19_7.65e+02_1.99e+01\n"
     ]
    },
    {
     "name": "stderr",
     "output_type": "stream",
     "text": [
      " ██████████████████████████████████████████████████ 100% ETA 0:00:00\n",
      " ██████████████████████████████████████████████████ 100% ETA 0:00:00\n",
      " ██████████████████████████████████████████████████ 100% ETA 0:00:00\n",
      " ██████████████████████████████████████████████████ 100% ETA 0:00:00\n",
      "<ipython-input-2-81460a860a94>:57: H5pyDeprecationWarning: The default file mode will change to 'r' (read-only) in h5py 3.0. To suppress this warning, pass the mode you need to h5py.File(), or set the global default h5.get_config().default_file_mode, or set the environment variable H5PY_DEFAULT_READONLY=1. Available modes are: 'r', 'r+', 'w', 'w-'/'x', 'a'. See the docs for details.\n",
      "  hdf = h5py.File(d.fname)\n"
     ]
    },
    {
     "name": "stdout",
     "output_type": "stream",
     "text": [
      "simulation_3.14e-19_7.33e+02_2.00e+01\n"
     ]
    },
    {
     "name": "stderr",
     "output_type": "stream",
     "text": [
      " ██████████████████████████████████████████████████ 100% ETA 0:00:00\n",
      " ██████████████████████████████████████████████████ 100% ETA 0:00:00\n",
      " ██████████████████████████████████████████████████ 100% ETA 0:00:00\n",
      " ██████████████████████████████████████████████████ 100% ETA 0:00:00\n",
      "<ipython-input-2-81460a860a94>:57: H5pyDeprecationWarning: The default file mode will change to 'r' (read-only) in h5py 3.0. To suppress this warning, pass the mode you need to h5py.File(), or set the global default h5.get_config().default_file_mode, or set the environment variable H5PY_DEFAULT_READONLY=1. Available modes are: 'r', 'r+', 'w', 'w-'/'x', 'a'. See the docs for details.\n",
      "  hdf = h5py.File(d.fname)\n"
     ]
    },
    {
     "name": "stdout",
     "output_type": "stream",
     "text": [
      "simulation_3.11e-19_5.08e+02_1.67e+01\n"
     ]
    },
    {
     "name": "stderr",
     "output_type": "stream",
     "text": [
      " ██████████████████████████████████████████████████ 100% ETA 0:00:00\n",
      " ██████████████████████████████████████████████████ 100% ETA 0:00:00\n",
      " ██████████████████████████████████████████████████ 100% ETA 0:00:00\n",
      " ██████████████████████████████████████████████████ 100% ETA 0:00:00\n",
      "<ipython-input-2-81460a860a94>:57: H5pyDeprecationWarning: The default file mode will change to 'r' (read-only) in h5py 3.0. To suppress this warning, pass the mode you need to h5py.File(), or set the global default h5.get_config().default_file_mode, or set the environment variable H5PY_DEFAULT_READONLY=1. Available modes are: 'r', 'r+', 'w', 'w-'/'x', 'a'. See the docs for details.\n",
      "  hdf = h5py.File(d.fname)\n"
     ]
    },
    {
     "name": "stdout",
     "output_type": "stream",
     "text": [
      "simulation_2.97e-19_6.50e+02_1.88e+01\n"
     ]
    },
    {
     "name": "stderr",
     "output_type": "stream",
     "text": [
      " ██████████████████████████████████████████████████ 100% ETA 0:00:00\n",
      " ██████████████████████████████████████████████████ 100% ETA 0:00:00\n",
      " ██████████████████████████████████████████████████ 100% ETA 0:00:00\n",
      " ██████████████████████████████████████████████████ 100% ETA 0:00:00\n",
      "<ipython-input-2-81460a860a94>:57: H5pyDeprecationWarning: The default file mode will change to 'r' (read-only) in h5py 3.0. To suppress this warning, pass the mode you need to h5py.File(), or set the global default h5.get_config().default_file_mode, or set the environment variable H5PY_DEFAULT_READONLY=1. Available modes are: 'r', 'r+', 'w', 'w-'/'x', 'a'. See the docs for details.\n",
      "  hdf = h5py.File(d.fname)\n"
     ]
    },
    {
     "name": "stdout",
     "output_type": "stream",
     "text": [
      "simulation_2.98e-19_5.59e+02_1.69e+01\n"
     ]
    },
    {
     "name": "stderr",
     "output_type": "stream",
     "text": [
      " ██████████████████████████████████████████████████ 100% ETA 0:00:00\n",
      " ██████████████████████████████████████████████████ 100% ETA 0:00:00\n",
      " ██████████████████████████████████████████████████ 100% ETA 0:00:00\n",
      " ██████████████████████████████████████████████████ 100% ETA 0:00:00\n",
      "<ipython-input-2-81460a860a94>:57: H5pyDeprecationWarning: The default file mode will change to 'r' (read-only) in h5py 3.0. To suppress this warning, pass the mode you need to h5py.File(), or set the global default h5.get_config().default_file_mode, or set the environment variable H5PY_DEFAULT_READONLY=1. Available modes are: 'r', 'r+', 'w', 'w-'/'x', 'a'. See the docs for details.\n",
      "  hdf = h5py.File(d.fname)\n"
     ]
    }
   ],
   "source": [
    "res = differential_evolution(func=opt_DAMASK,bounds=bounds,seed=1,polish=False,atol=1E5,workers=1,disp=True,\\\n",
    "                             maxiter=10,popsize=15,updating='deferred')"
   ]
  },
  {
   "cell_type": "code",
   "execution_count": 5,
   "metadata": {},
   "outputs": [
    {
     "data": {
      "text/plain": [
       "     fun: 11563252.11348188\n",
       " message: 'Maximum number of iterations has been exceeded.'\n",
       "    nfev: 180\n",
       "     nit: 3\n",
       " success: False\n",
       "       x: array([4.02075876e-19, 1.11800810e+03, 2.00400854e+01])"
      ]
     },
     "execution_count": 5,
     "metadata": {},
     "output_type": "execute_result"
    }
   ],
   "source": [
    "res"
   ]
  },
  {
   "cell_type": "code",
   "execution_count": 2,
   "metadata": {},
   "outputs": [
    {
     "ename": "UnicodeDecodeError",
     "evalue": "'utf-8' codec can't decode byte 0xb2 in position 4: invalid start byte",
     "output_type": "error",
     "traceback": [
      "\u001b[0;31m---------------------------------------------------------------------------\u001b[0m",
      "\u001b[0;31mUnicodeDecodeError\u001b[0m                        Traceback (most recent call last)",
      "\u001b[0;32m<ipython-input-2-48562b41b9a1>\u001b[0m in \u001b[0;36m<module>\u001b[0;34m\u001b[0m\n\u001b[0;32m----> 1\u001b[0;31m \u001b[0mdf\u001b[0m \u001b[0;34m=\u001b[0m \u001b[0mpd\u001b[0m\u001b[0;34m.\u001b[0m\u001b[0mread_csv\u001b[0m\u001b[0;34m(\u001b[0m\u001b[0;34m'/nethome/v.shah/Validation_Kees/Steels/tmp/10778R1-376_DP6_A-1200_0.1.asc'\u001b[0m\u001b[0;34m,\u001b[0m\u001b[0mheader\u001b[0m\u001b[0;34m=\u001b[0m\u001b[0;36m2\u001b[0m\u001b[0;34m,\u001b[0m\u001b[0msep\u001b[0m\u001b[0;34m=\u001b[0m\u001b[0;34m'\\\\s+'\u001b[0m\u001b[0;34m,\u001b[0m\u001b[0mnames\u001b[0m\u001b[0;34m=\u001b[0m\u001b[0;34m[\u001b[0m\u001b[0;34m'True Strain'\u001b[0m\u001b[0;34m,\u001b[0m\u001b[0;34m'True Stress'\u001b[0m\u001b[0;34m,\u001b[0m\u001b[0;34m'Time'\u001b[0m\u001b[0;34m]\u001b[0m\u001b[0;34m)\u001b[0m\u001b[0;34m\u001b[0m\u001b[0;34m\u001b[0m\u001b[0m\n\u001b[0m",
      "\u001b[0;32m/usr/local/lib/python3.8/dist-packages/pandas/io/parsers.py\u001b[0m in \u001b[0;36mread_csv\u001b[0;34m(filepath_or_buffer, sep, delimiter, header, names, index_col, usecols, squeeze, prefix, mangle_dupe_cols, dtype, engine, converters, true_values, false_values, skipinitialspace, skiprows, skipfooter, nrows, na_values, keep_default_na, na_filter, verbose, skip_blank_lines, parse_dates, infer_datetime_format, keep_date_col, date_parser, dayfirst, cache_dates, iterator, chunksize, compression, thousands, decimal, lineterminator, quotechar, quoting, doublequote, escapechar, comment, encoding, dialect, error_bad_lines, warn_bad_lines, delim_whitespace, low_memory, memory_map, float_precision)\u001b[0m\n\u001b[1;32m    686\u001b[0m     )\n\u001b[1;32m    687\u001b[0m \u001b[0;34m\u001b[0m\u001b[0m\n\u001b[0;32m--> 688\u001b[0;31m     \u001b[0;32mreturn\u001b[0m \u001b[0m_read\u001b[0m\u001b[0;34m(\u001b[0m\u001b[0mfilepath_or_buffer\u001b[0m\u001b[0;34m,\u001b[0m \u001b[0mkwds\u001b[0m\u001b[0;34m)\u001b[0m\u001b[0;34m\u001b[0m\u001b[0;34m\u001b[0m\u001b[0m\n\u001b[0m\u001b[1;32m    689\u001b[0m \u001b[0;34m\u001b[0m\u001b[0m\n\u001b[1;32m    690\u001b[0m \u001b[0;34m\u001b[0m\u001b[0m\n",
      "\u001b[0;32m/usr/local/lib/python3.8/dist-packages/pandas/io/parsers.py\u001b[0m in \u001b[0;36m_read\u001b[0;34m(filepath_or_buffer, kwds)\u001b[0m\n\u001b[1;32m    452\u001b[0m \u001b[0;34m\u001b[0m\u001b[0m\n\u001b[1;32m    453\u001b[0m     \u001b[0;31m# Create the parser.\u001b[0m\u001b[0;34m\u001b[0m\u001b[0;34m\u001b[0m\u001b[0;34m\u001b[0m\u001b[0m\n\u001b[0;32m--> 454\u001b[0;31m     \u001b[0mparser\u001b[0m \u001b[0;34m=\u001b[0m \u001b[0mTextFileReader\u001b[0m\u001b[0;34m(\u001b[0m\u001b[0mfp_or_buf\u001b[0m\u001b[0;34m,\u001b[0m \u001b[0;34m**\u001b[0m\u001b[0mkwds\u001b[0m\u001b[0;34m)\u001b[0m\u001b[0;34m\u001b[0m\u001b[0;34m\u001b[0m\u001b[0m\n\u001b[0m\u001b[1;32m    455\u001b[0m \u001b[0;34m\u001b[0m\u001b[0m\n\u001b[1;32m    456\u001b[0m     \u001b[0;32mif\u001b[0m \u001b[0mchunksize\u001b[0m \u001b[0;32mor\u001b[0m \u001b[0miterator\u001b[0m\u001b[0;34m:\u001b[0m\u001b[0;34m\u001b[0m\u001b[0;34m\u001b[0m\u001b[0m\n",
      "\u001b[0;32m/usr/local/lib/python3.8/dist-packages/pandas/io/parsers.py\u001b[0m in \u001b[0;36m__init__\u001b[0;34m(self, f, engine, **kwds)\u001b[0m\n\u001b[1;32m    946\u001b[0m             \u001b[0mself\u001b[0m\u001b[0;34m.\u001b[0m\u001b[0moptions\u001b[0m\u001b[0;34m[\u001b[0m\u001b[0;34m\"has_index_names\"\u001b[0m\u001b[0;34m]\u001b[0m \u001b[0;34m=\u001b[0m \u001b[0mkwds\u001b[0m\u001b[0;34m[\u001b[0m\u001b[0;34m\"has_index_names\"\u001b[0m\u001b[0;34m]\u001b[0m\u001b[0;34m\u001b[0m\u001b[0;34m\u001b[0m\u001b[0m\n\u001b[1;32m    947\u001b[0m \u001b[0;34m\u001b[0m\u001b[0m\n\u001b[0;32m--> 948\u001b[0;31m         \u001b[0mself\u001b[0m\u001b[0;34m.\u001b[0m\u001b[0m_make_engine\u001b[0m\u001b[0;34m(\u001b[0m\u001b[0mself\u001b[0m\u001b[0;34m.\u001b[0m\u001b[0mengine\u001b[0m\u001b[0;34m)\u001b[0m\u001b[0;34m\u001b[0m\u001b[0;34m\u001b[0m\u001b[0m\n\u001b[0m\u001b[1;32m    949\u001b[0m \u001b[0;34m\u001b[0m\u001b[0m\n\u001b[1;32m    950\u001b[0m     \u001b[0;32mdef\u001b[0m \u001b[0mclose\u001b[0m\u001b[0;34m(\u001b[0m\u001b[0mself\u001b[0m\u001b[0;34m)\u001b[0m\u001b[0;34m:\u001b[0m\u001b[0;34m\u001b[0m\u001b[0;34m\u001b[0m\u001b[0m\n",
      "\u001b[0;32m/usr/local/lib/python3.8/dist-packages/pandas/io/parsers.py\u001b[0m in \u001b[0;36m_make_engine\u001b[0;34m(self, engine)\u001b[0m\n\u001b[1;32m   1178\u001b[0m     \u001b[0;32mdef\u001b[0m \u001b[0m_make_engine\u001b[0m\u001b[0;34m(\u001b[0m\u001b[0mself\u001b[0m\u001b[0;34m,\u001b[0m \u001b[0mengine\u001b[0m\u001b[0;34m=\u001b[0m\u001b[0;34m\"c\"\u001b[0m\u001b[0;34m)\u001b[0m\u001b[0;34m:\u001b[0m\u001b[0;34m\u001b[0m\u001b[0;34m\u001b[0m\u001b[0m\n\u001b[1;32m   1179\u001b[0m         \u001b[0;32mif\u001b[0m \u001b[0mengine\u001b[0m \u001b[0;34m==\u001b[0m \u001b[0;34m\"c\"\u001b[0m\u001b[0;34m:\u001b[0m\u001b[0;34m\u001b[0m\u001b[0;34m\u001b[0m\u001b[0m\n\u001b[0;32m-> 1180\u001b[0;31m             \u001b[0mself\u001b[0m\u001b[0;34m.\u001b[0m\u001b[0m_engine\u001b[0m \u001b[0;34m=\u001b[0m \u001b[0mCParserWrapper\u001b[0m\u001b[0;34m(\u001b[0m\u001b[0mself\u001b[0m\u001b[0;34m.\u001b[0m\u001b[0mf\u001b[0m\u001b[0;34m,\u001b[0m \u001b[0;34m**\u001b[0m\u001b[0mself\u001b[0m\u001b[0;34m.\u001b[0m\u001b[0moptions\u001b[0m\u001b[0;34m)\u001b[0m\u001b[0;34m\u001b[0m\u001b[0;34m\u001b[0m\u001b[0m\n\u001b[0m\u001b[1;32m   1181\u001b[0m         \u001b[0;32melse\u001b[0m\u001b[0;34m:\u001b[0m\u001b[0;34m\u001b[0m\u001b[0;34m\u001b[0m\u001b[0m\n\u001b[1;32m   1182\u001b[0m             \u001b[0;32mif\u001b[0m \u001b[0mengine\u001b[0m \u001b[0;34m==\u001b[0m \u001b[0;34m\"python\"\u001b[0m\u001b[0;34m:\u001b[0m\u001b[0;34m\u001b[0m\u001b[0;34m\u001b[0m\u001b[0m\n",
      "\u001b[0;32m/usr/local/lib/python3.8/dist-packages/pandas/io/parsers.py\u001b[0m in \u001b[0;36m__init__\u001b[0;34m(self, src, **kwds)\u001b[0m\n\u001b[1;32m   2008\u001b[0m         \u001b[0mkwds\u001b[0m\u001b[0;34m[\u001b[0m\u001b[0;34m\"usecols\"\u001b[0m\u001b[0;34m]\u001b[0m \u001b[0;34m=\u001b[0m \u001b[0mself\u001b[0m\u001b[0;34m.\u001b[0m\u001b[0musecols\u001b[0m\u001b[0;34m\u001b[0m\u001b[0;34m\u001b[0m\u001b[0m\n\u001b[1;32m   2009\u001b[0m \u001b[0;34m\u001b[0m\u001b[0m\n\u001b[0;32m-> 2010\u001b[0;31m         \u001b[0mself\u001b[0m\u001b[0;34m.\u001b[0m\u001b[0m_reader\u001b[0m \u001b[0;34m=\u001b[0m \u001b[0mparsers\u001b[0m\u001b[0;34m.\u001b[0m\u001b[0mTextReader\u001b[0m\u001b[0;34m(\u001b[0m\u001b[0msrc\u001b[0m\u001b[0;34m,\u001b[0m \u001b[0;34m**\u001b[0m\u001b[0mkwds\u001b[0m\u001b[0;34m)\u001b[0m\u001b[0;34m\u001b[0m\u001b[0;34m\u001b[0m\u001b[0m\n\u001b[0m\u001b[1;32m   2011\u001b[0m         \u001b[0mself\u001b[0m\u001b[0;34m.\u001b[0m\u001b[0munnamed_cols\u001b[0m \u001b[0;34m=\u001b[0m \u001b[0mself\u001b[0m\u001b[0;34m.\u001b[0m\u001b[0m_reader\u001b[0m\u001b[0;34m.\u001b[0m\u001b[0munnamed_cols\u001b[0m\u001b[0;34m\u001b[0m\u001b[0;34m\u001b[0m\u001b[0m\n\u001b[1;32m   2012\u001b[0m \u001b[0;34m\u001b[0m\u001b[0m\n",
      "\u001b[0;32mpandas/_libs/parsers.pyx\u001b[0m in \u001b[0;36mpandas._libs.parsers.TextReader.__cinit__\u001b[0;34m()\u001b[0m\n",
      "\u001b[0;32mpandas/_libs/parsers.pyx\u001b[0m in \u001b[0;36mpandas._libs.parsers.TextReader._get_header\u001b[0;34m()\u001b[0m\n",
      "\u001b[0;31mUnicodeDecodeError\u001b[0m: 'utf-8' codec can't decode byte 0xb2 in position 4: invalid start byte"
     ]
    }
   ],
   "source": [
    "df = pd.read_csv('/nethome/v.shah/Validation_Kees/Steels/tmp/10778R1-376_DP6_A-1200_0.1.asc',header=2,sep='\\\\s+',names=['True Strain','True Stress','Time'])"
   ]
  },
  {
   "cell_type": "code",
   "execution_count": 96,
   "metadata": {},
   "outputs": [],
   "source": [
    "df_exp = pd.read_csv('/nethome/v.shah/Validation_Kees/Steels/tmp/10778R1-376_DP6_A-1200_0.1.asc',\\\n",
    "                 header=2,sep='\\\\s+',names=['True Strain','True Stress','Time'],encoding= 'unicode_escape')"
   ]
  },
  {
   "cell_type": "code",
   "execution_count": 9,
   "metadata": {},
   "outputs": [],
   "source": [
    "os.chdir('/nethome/v.shah/Validation_Kees/Ni_30Fe/Optimization/simulation_6.69e+00_3.95e-19_2.03e+01')"
   ]
  },
  {
   "cell_type": "code",
   "execution_count": 10,
   "metadata": {},
   "outputs": [
    {
     "name": "stderr",
     "output_type": "stream",
     "text": [
      "<ipython-input-10-1f3efac48981>:4: H5pyDeprecationWarning: The default file mode will change to 'r' (read-only) in h5py 3.0. To suppress this warning, pass the mode you need to h5py.File(), or set the global default h5.get_config().default_file_mode, or set the environment variable H5PY_DEFAULT_READONLY=1. Available modes are: 'r', 'r+', 'w', 'w-'/'x', 'a'. See the docs for details.\n",
      "  hdf = h5py.File(d.fname)\n"
     ]
    }
   ],
   "source": [
    "d = damask.Result('3D_random_tensionX.hdf5')\n",
    "stress_list = []\n",
    "strain_list = []\n",
    "hdf = h5py.File(d.fname)\n",
    "for count,inc in enumerate(d.get_dataset_location('sigma_vM')):\n",
    "    stress_list.append(np.average(hdf[inc]))\n",
    "    strain_path = inc.split('sigma_vM')[0] + 'epsilon_V^0.0(F)_vM'\n",
    "    strain_list.append(np.average(hdf[strain_path]))\n",
    "        \n",
    "stress_array = np.array(stress_list).reshape((len(stress_list),1))/1E6\n",
    "strain_array = np.array(strain_list).reshape((len(strain_list),1))"
   ]
  },
  {
   "cell_type": "code",
   "execution_count": 11,
   "metadata": {},
   "outputs": [],
   "source": [
    "df = pd.DataFrame({'True Strain': strain_list,'True Stress':stress_list})"
   ]
  },
  {
   "cell_type": "code",
   "execution_count": 12,
   "metadata": {},
   "outputs": [
    {
     "ename": "error",
     "evalue": "(m>k) failed for hidden m: fpcurf0:m=0",
     "output_type": "error",
     "traceback": [
      "\u001b[0;31m---------------------------------------------------------------------------\u001b[0m",
      "\u001b[0;31merror\u001b[0m                                     Traceback (most recent call last)",
      "\u001b[0;32m<ipython-input-12-1efc5710ae4f>\u001b[0m in \u001b[0;36m<module>\u001b[0;34m\u001b[0m\n\u001b[1;32m      1\u001b[0m \u001b[0;32mfrom\u001b[0m \u001b[0mscipy\u001b[0m\u001b[0;34m.\u001b[0m\u001b[0minterpolate\u001b[0m \u001b[0;32mimport\u001b[0m \u001b[0mUnivariateSpline\u001b[0m\u001b[0;34m\u001b[0m\u001b[0;34m\u001b[0m\u001b[0m\n\u001b[0;32m----> 2\u001b[0;31m \u001b[0mf\u001b[0m \u001b[0;34m=\u001b[0m \u001b[0mUnivariateSpline\u001b[0m\u001b[0;34m(\u001b[0m\u001b[0mdf\u001b[0m\u001b[0;34m[\u001b[0m\u001b[0;34m'True Strain'\u001b[0m\u001b[0;34m]\u001b[0m\u001b[0;34m,\u001b[0m\u001b[0mdf\u001b[0m\u001b[0;34m[\u001b[0m\u001b[0;34m'True Stress'\u001b[0m\u001b[0;34m]\u001b[0m\u001b[0;34m,\u001b[0m\u001b[0mk\u001b[0m\u001b[0;34m=\u001b[0m\u001b[0;36m3\u001b[0m\u001b[0;34m,\u001b[0m\u001b[0ms\u001b[0m\u001b[0;34m=\u001b[0m\u001b[0;32mNone\u001b[0m\u001b[0;34m)\u001b[0m\u001b[0;34m\u001b[0m\u001b[0;34m\u001b[0m\u001b[0m\n\u001b[0m\u001b[1;32m      3\u001b[0m \u001b[0mxnew1\u001b[0m \u001b[0;34m=\u001b[0m \u001b[0mnp\u001b[0m\u001b[0;34m.\u001b[0m\u001b[0mlinspace\u001b[0m\u001b[0;34m(\u001b[0m\u001b[0;36m0.02\u001b[0m\u001b[0;34m,\u001b[0m\u001b[0;36m0.1\u001b[0m\u001b[0;34m,\u001b[0m\u001b[0;36m20\u001b[0m\u001b[0;34m)\u001b[0m\u001b[0;34m\u001b[0m\u001b[0;34m\u001b[0m\u001b[0m\n\u001b[1;32m      4\u001b[0m \u001b[0mynew1\u001b[0m \u001b[0;34m=\u001b[0m \u001b[0mf\u001b[0m\u001b[0;34m(\u001b[0m\u001b[0mxnew1\u001b[0m\u001b[0;34m)\u001b[0m\u001b[0;34m\u001b[0m\u001b[0;34m\u001b[0m\u001b[0m\n",
      "\u001b[0;32m~/.local/lib/python3.8/site-packages/scipy/interpolate/fitpack2.py\u001b[0m in \u001b[0;36m__init__\u001b[0;34m(self, x, y, w, bbox, k, s, ext, check_finite)\u001b[0m\n\u001b[1;32m    200\u001b[0m \u001b[0;34m\u001b[0m\u001b[0m\n\u001b[1;32m    201\u001b[0m         \u001b[0;31m# _data == x,y,w,xb,xe,k,s,n,t,c,fp,fpint,nrdata,ier\u001b[0m\u001b[0;34m\u001b[0m\u001b[0;34m\u001b[0m\u001b[0;34m\u001b[0m\u001b[0m\n\u001b[0;32m--> 202\u001b[0;31m         data = dfitpack.fpcurf0(x, y, k, w=w, xb=bbox[0],\n\u001b[0m\u001b[1;32m    203\u001b[0m                                 xe=bbox[1], s=s)\n\u001b[1;32m    204\u001b[0m         \u001b[0;32mif\u001b[0m \u001b[0mdata\u001b[0m\u001b[0;34m[\u001b[0m\u001b[0;34m-\u001b[0m\u001b[0;36m1\u001b[0m\u001b[0;34m]\u001b[0m \u001b[0;34m==\u001b[0m \u001b[0;36m1\u001b[0m\u001b[0;34m:\u001b[0m\u001b[0;34m\u001b[0m\u001b[0;34m\u001b[0m\u001b[0m\n",
      "\u001b[0;31merror\u001b[0m: (m>k) failed for hidden m: fpcurf0:m=0"
     ]
    }
   ],
   "source": [
    "from scipy.interpolate import UnivariateSpline\n",
    "f = UnivariateSpline(df['True Strain'],df['True Stress'],k=3,s=None)\n",
    "xnew1 = np.linspace(0.02,0.1,20)\n",
    "ynew1 = f(xnew1)"
   ]
  },
  {
   "cell_type": "code",
   "execution_count": 118,
   "metadata": {},
   "outputs": [],
   "source": [
    "# df = df.loc[df['True Strain']< 0.15]\n",
    "c1 = polynomial.polyfit(df['True Strain'],df['True Stress'],9)\n",
    "xnew1 = np.linspace(0.02,0.1,20)\n",
    "ynew1 = polynomial.polyval(xnew1,c1)"
   ]
  },
  {
   "cell_type": "code",
   "execution_count": 119,
   "metadata": {},
   "outputs": [],
   "source": [
    "df1 = pd.read_csv('/nethome/v.shah/Validation_Kees/Steels/tmp/10780R1-376_DP6_A-1200_10.asc',\\\n",
    "                     header=2,sep='\\\\s+',names=['True Strain','True Stress','Time'],encoding= 'unicode_escape')\n",
    "# df1 = df1.loc[df1['True Strain']< 0.15]\n",
    "c = polynomial.polyfit(df1['True Strain'],df1['True Stress'],9)\n",
    "xnew = np.linspace(0.02,0.15,20)\n",
    "ynew = polynomial.polyval(xnew,c)"
   ]
  },
  {
   "cell_type": "code",
   "execution_count": 13,
   "metadata": {},
   "outputs": [
    {
     "data": {
      "text/plain": [
       "[<matplotlib.lines.Line2D at 0x1520994a9e20>]"
      ]
     },
     "execution_count": 13,
     "metadata": {},
     "output_type": "execute_result"
    },
    {
     "data": {
      "image/png": "[encoded data removed]",
      "text/plain": [
       "<Figure size 432x288 with 1 Axes>"
      ]
     },
     "metadata": {
      "needs_background": "light"
     },
     "output_type": "display_data"
    }
   ],
   "source": [
    "plt.plot(df['True Strain'],df['True Stress'])\n",
    "# plt.plot(df1['True Strain'],df1['True Stress']*1E6)\n",
    "# plt.plot(xnew,ynew*1E6,marker='+')\n",
    "# plt.plot(xnew1,ynew1,marker='o')"
   ]
  },
  {
   "cell_type": "code",
   "execution_count": 24,
   "metadata": {},
   "outputs": [
    {
     "data": {
      "text/plain": [
       "array([-1.09998072e+00,  8.29555355e+02, -2.27757234e+04,  4.93278335e+05,\n",
       "       -6.76107580e+06,  5.46440007e+07, -2.36422812e+08,  4.20245612e+08])"
      ]
     },
     "execution_count": 24,
     "metadata": {},
     "output_type": "execute_result"
    }
   ],
   "source": [
    "c"
   ]
  },
  {
   "cell_type": "code",
   "execution_count": 28,
   "metadata": {},
   "outputs": [
    {
     "data": {
      "text/plain": [
       "array([-1.09998072,  4.24767571,  7.89169769, 10.56480226, 12.68901223,\n",
       "       14.48721557, 16.06565605, 17.47140372, 18.72885376, 19.85930218,\n",
       "       20.88764699, 21.8402633 , 22.73810083, 23.58905257, 24.38364282,\n",
       "       25.09808344, 25.70874653, 26.22210243, 26.72417121, 27.45353645])"
      ]
     },
     "execution_count": 28,
     "metadata": {},
     "output_type": "execute_result"
    }
   ],
   "source": [
    "ynew"
   ]
  },
  {
   "cell_type": "code",
   "execution_count": 53,
   "metadata": {},
   "outputs": [
    {
     "data": {
      "text/plain": [
       "[<matplotlib.lines.Line2D at 0x1535a0d89940>]"
      ]
     },
     "execution_count": 53,
     "metadata": {},
     "output_type": "execute_result"
    },
    {
     "data": {
      "image/png": "[encoded data removed]",
      "text/plain": [
       "<Figure size 432x288 with 1 Axes>"
      ]
     },
     "metadata": {
      "needs_background": "light"
     },
     "output_type": "display_data"
    }
   ],
   "source": [
    "plt.plot(np.abs(ynew*1E6 - ynew1))"
   ]
  },
  {
   "cell_type": "code",
   "execution_count": 17,
   "metadata": {},
   "outputs": [
    {
     "data": {
      "text/plain": [
       "[<matplotlib.lines.Line2D at 0x14b391842160>]"
      ]
     },
     "execution_count": 17,
     "metadata": {},
     "output_type": "execute_result"
    },
    {
     "data": {
      "image/png": "[encoded data removed]",
      "text/plain": [
       "<Figure size 432x288 with 1 Axes>"
      ]
     },
     "metadata": {
      "needs_background": "light"
     },
     "output_type": "display_data"
    }
   ],
   "source": [
    "plt.plot(df['True Strain'],df['True Stress'])\n",
    "plt.plot(df_exp['True Strain'],df_exp['True Stress']*1E6)"
   ]
  },
  {
   "cell_type": "code",
   "execution_count": 2,
   "metadata": {},
   "outputs": [],
   "source": [
    "df = pd.read_csv('/nethome/v.shah/Validation_Kees/Steels/tmp/10780R1-376_DP6_A-1200_10.asc',\\\n",
    "                     header=2,sep='\\\\s+',names=['True Strain','True Stress','Time'],encoding= 'unicode_escape')"
   ]
  },
  {
   "cell_type": "code",
   "execution_count": 3,
   "metadata": {},
   "outputs": [
    {
     "data": {
      "text/plain": [
       "[<matplotlib.lines.Line2D at 0x14dc33fc3f10>]"
      ]
     },
     "execution_count": 3,
     "metadata": {},
     "output_type": "execute_result"
    },
    {
     "data": {
      "image/png": "[encoded data removed]",
      "text/plain": [
       "<Figure size 432x288 with 1 Axes>"
      ]
     },
     "metadata": {
      "needs_background": "light"
     },
     "output_type": "display_data"
    }
   ],
   "source": [
    "plt.plot(df['True Strain'],df['True Stress'])"
   ]
  },
  {
   "cell_type": "code",
   "execution_count": 12,
   "metadata": {},
   "outputs": [],
   "source": [
    "fitting_results = np.loadtxt('/nethome/v.shah/Validation_Kees/Steels/Optimization_attempts/residual.txt',usecols=(0,2,4,6))"
   ]
  },
  {
   "cell_type": "code",
   "execution_count": 13,
   "metadata": {},
   "outputs": [],
   "source": [
    "fitting_results = pd.DataFrame({'Residual': fitting_results[:,0],'Q_cl':fitting_results[:,1],'omega':fitting_results[:,2],\\\n",
    "                                'i_sl':fitting_results[:,3]})"
   ]
  },
  {
   "cell_type": "code",
   "execution_count": 14,
   "metadata": {},
   "outputs": [
    {
     "data": {
      "text/html": [
       "<div>\n",
       "<style scoped>\n",
       "    .dataframe tbody tr th:only-of-type {\n",
       "        vertical-align: middle;\n",
       "    }\n",
       "\n",
       "    .dataframe tbody tr th {\n",
       "        vertical-align: top;\n",
       "    }\n",
       "\n",
       "    .dataframe thead th {\n",
       "        text-align: right;\n",
       "    }\n",
       "</style>\n",
       "<table border=\"1\" class=\"dataframe\">\n",
       "  <thead>\n",
       "    <tr style=\"text-align: right;\">\n",
       "      <th></th>\n",
       "      <th>Residual</th>\n",
       "      <th>Q_cl</th>\n",
       "      <th>omega</th>\n",
       "      <th>i_sl</th>\n",
       "    </tr>\n",
       "  </thead>\n",
       "  <tbody>\n",
       "    <tr>\n",
       "      <th>0</th>\n",
       "      <td>9730000.0</td>\n",
       "      <td>3.050000e-19</td>\n",
       "      <td>578.0</td>\n",
       "      <td>18.8</td>\n",
       "    </tr>\n",
       "    <tr>\n",
       "      <th>1</th>\n",
       "      <td>12100000.0</td>\n",
       "      <td>3.130000e-19</td>\n",
       "      <td>693.0</td>\n",
       "      <td>22.5</td>\n",
       "    </tr>\n",
       "    <tr>\n",
       "      <th>2</th>\n",
       "      <td>15900000.0</td>\n",
       "      <td>3.130000e-19</td>\n",
       "      <td>765.0</td>\n",
       "      <td>24.8</td>\n",
       "    </tr>\n",
       "    <tr>\n",
       "      <th>3</th>\n",
       "      <td>14000000.0</td>\n",
       "      <td>3.190000e-19</td>\n",
       "      <td>733.0</td>\n",
       "      <td>25.0</td>\n",
       "    </tr>\n",
       "    <tr>\n",
       "      <th>4</th>\n",
       "      <td>19300000.0</td>\n",
       "      <td>3.170000e-19</td>\n",
       "      <td>508.0</td>\n",
       "      <td>16.8</td>\n",
       "    </tr>\n",
       "    <tr>\n",
       "      <th>5</th>\n",
       "      <td>14200000.0</td>\n",
       "      <td>3.060000e-19</td>\n",
       "      <td>650.0</td>\n",
       "      <td>22.1</td>\n",
       "    </tr>\n",
       "    <tr>\n",
       "      <th>6</th>\n",
       "      <td>8260000.0</td>\n",
       "      <td>3.070000e-19</td>\n",
       "      <td>559.0</td>\n",
       "      <td>17.2</td>\n",
       "    </tr>\n",
       "    <tr>\n",
       "      <th>7</th>\n",
       "      <td>14400000.0</td>\n",
       "      <td>3.140000e-19</td>\n",
       "      <td>620.0</td>\n",
       "      <td>23.7</td>\n",
       "    </tr>\n",
       "    <tr>\n",
       "      <th>8</th>\n",
       "      <td>17300000.0</td>\n",
       "      <td>3.080000e-19</td>\n",
       "      <td>586.0</td>\n",
       "      <td>15.2</td>\n",
       "    </tr>\n",
       "    <tr>\n",
       "      <th>9</th>\n",
       "      <td>16200000.0</td>\n",
       "      <td>3.070000e-19</td>\n",
       "      <td>673.0</td>\n",
       "      <td>23.6</td>\n",
       "    </tr>\n",
       "    <tr>\n",
       "      <th>10</th>\n",
       "      <td>10100000.0</td>\n",
       "      <td>3.130000e-19</td>\n",
       "      <td>747.0</td>\n",
       "      <td>20.1</td>\n",
       "    </tr>\n",
       "    <tr>\n",
       "      <th>11</th>\n",
       "      <td>16700000.0</td>\n",
       "      <td>3.100000e-19</td>\n",
       "      <td>758.0</td>\n",
       "      <td>15.0</td>\n",
       "    </tr>\n",
       "    <tr>\n",
       "      <th>12</th>\n",
       "      <td>13700000.0</td>\n",
       "      <td>3.140000e-19</td>\n",
       "      <td>640.0</td>\n",
       "      <td>23.4</td>\n",
       "    </tr>\n",
       "    <tr>\n",
       "      <th>13</th>\n",
       "      <td>15600000.0</td>\n",
       "      <td>3.170000e-19</td>\n",
       "      <td>685.0</td>\n",
       "      <td>16.5</td>\n",
       "    </tr>\n",
       "    <tr>\n",
       "      <th>14</th>\n",
       "      <td>15800000.0</td>\n",
       "      <td>3.090000e-19</td>\n",
       "      <td>608.0</td>\n",
       "      <td>15.5</td>\n",
       "    </tr>\n",
       "    <tr>\n",
       "      <th>15</th>\n",
       "      <td>9760000.0</td>\n",
       "      <td>3.100000e-19</td>\n",
       "      <td>767.0</td>\n",
       "      <td>19.4</td>\n",
       "    </tr>\n",
       "    <tr>\n",
       "      <th>16</th>\n",
       "      <td>7930000.0</td>\n",
       "      <td>3.130000e-19</td>\n",
       "      <td>678.0</td>\n",
       "      <td>17.5</td>\n",
       "    </tr>\n",
       "    <tr>\n",
       "      <th>17</th>\n",
       "      <td>10800000.0</td>\n",
       "      <td>3.120000e-19</td>\n",
       "      <td>593.0</td>\n",
       "      <td>21.3</td>\n",
       "    </tr>\n",
       "    <tr>\n",
       "      <th>18</th>\n",
       "      <td>12300000.0</td>\n",
       "      <td>3.190000e-19</td>\n",
       "      <td>722.0</td>\n",
       "      <td>23.0</td>\n",
       "    </tr>\n",
       "    <tr>\n",
       "      <th>19</th>\n",
       "      <td>11500000.0</td>\n",
       "      <td>3.110000e-19</td>\n",
       "      <td>561.0</td>\n",
       "      <td>21.6</td>\n",
       "    </tr>\n",
       "    <tr>\n",
       "      <th>20</th>\n",
       "      <td>10600000.0</td>\n",
       "      <td>3.180000e-19</td>\n",
       "      <td>541.0</td>\n",
       "      <td>21.1</td>\n",
       "    </tr>\n",
       "    <tr>\n",
       "      <th>21</th>\n",
       "      <td>16900000.0</td>\n",
       "      <td>3.090000e-19</td>\n",
       "      <td>709.0</td>\n",
       "      <td>24.4</td>\n",
       "    </tr>\n",
       "    <tr>\n",
       "      <th>22</th>\n",
       "      <td>17300000.0</td>\n",
       "      <td>3.200000e-19</td>\n",
       "      <td>786.0</td>\n",
       "      <td>16.2</td>\n",
       "    </tr>\n",
       "    <tr>\n",
       "      <th>23</th>\n",
       "      <td>7200000.0</td>\n",
       "      <td>3.080000e-19</td>\n",
       "      <td>549.0</td>\n",
       "      <td>17.7</td>\n",
       "    </tr>\n",
       "    <tr>\n",
       "      <th>24</th>\n",
       "      <td>13900000.0</td>\n",
       "      <td>3.100000e-19</td>\n",
       "      <td>698.0</td>\n",
       "      <td>22.8</td>\n",
       "    </tr>\n",
       "    <tr>\n",
       "      <th>25</th>\n",
       "      <td>8730000.0</td>\n",
       "      <td>3.170000e-19</td>\n",
       "      <td>599.0</td>\n",
       "      <td>19.1</td>\n",
       "    </tr>\n",
       "    <tr>\n",
       "      <th>26</th>\n",
       "      <td>9120000.0</td>\n",
       "      <td>3.170000e-19</td>\n",
       "      <td>636.0</td>\n",
       "      <td>21.8</td>\n",
       "    </tr>\n",
       "    <tr>\n",
       "      <th>27</th>\n",
       "      <td>9390000.0</td>\n",
       "      <td>3.190000e-19</td>\n",
       "      <td>505.0</td>\n",
       "      <td>21.0</td>\n",
       "    </tr>\n",
       "    <tr>\n",
       "      <th>28</th>\n",
       "      <td>9170000.0</td>\n",
       "      <td>3.180000e-19</td>\n",
       "      <td>533.0</td>\n",
       "      <td>21.9</td>\n",
       "    </tr>\n",
       "    <tr>\n",
       "      <th>29</th>\n",
       "      <td>9400000.0</td>\n",
       "      <td>3.050000e-19</td>\n",
       "      <td>615.0</td>\n",
       "      <td>19.6</td>\n",
       "    </tr>\n",
       "    <tr>\n",
       "      <th>30</th>\n",
       "      <td>17400000.0</td>\n",
       "      <td>3.060000e-19</td>\n",
       "      <td>729.0</td>\n",
       "      <td>23.9</td>\n",
       "    </tr>\n",
       "    <tr>\n",
       "      <th>31</th>\n",
       "      <td>11900000.0</td>\n",
       "      <td>3.100000e-19</td>\n",
       "      <td>779.0</td>\n",
       "      <td>20.6</td>\n",
       "    </tr>\n",
       "    <tr>\n",
       "      <th>32</th>\n",
       "      <td>14300000.0</td>\n",
       "      <td>3.080000e-19</td>\n",
       "      <td>516.0</td>\n",
       "      <td>23.0</td>\n",
       "    </tr>\n",
       "    <tr>\n",
       "      <th>33</th>\n",
       "      <td>7080000.0</td>\n",
       "      <td>3.080000e-19</td>\n",
       "      <td>569.0</td>\n",
       "      <td>18.1</td>\n",
       "    </tr>\n",
       "    <tr>\n",
       "      <th>34</th>\n",
       "      <td>14200000.0</td>\n",
       "      <td>3.150000e-19</td>\n",
       "      <td>793.0</td>\n",
       "      <td>24.2</td>\n",
       "    </tr>\n",
       "    <tr>\n",
       "      <th>35</th>\n",
       "      <td>16600000.0</td>\n",
       "      <td>3.180000e-19</td>\n",
       "      <td>659.0</td>\n",
       "      <td>16.7</td>\n",
       "    </tr>\n",
       "    <tr>\n",
       "      <th>36</th>\n",
       "      <td>8770000.0</td>\n",
       "      <td>3.160000e-19</td>\n",
       "      <td>606.0</td>\n",
       "      <td>18.4</td>\n",
       "    </tr>\n",
       "    <tr>\n",
       "      <th>37</th>\n",
       "      <td>8240000.0</td>\n",
       "      <td>3.110000e-19</td>\n",
       "      <td>536.0</td>\n",
       "      <td>18.6</td>\n",
       "    </tr>\n",
       "    <tr>\n",
       "      <th>38</th>\n",
       "      <td>9250000.0</td>\n",
       "      <td>3.140000e-19</td>\n",
       "      <td>706.0</td>\n",
       "      <td>20.4</td>\n",
       "    </tr>\n",
       "    <tr>\n",
       "      <th>39</th>\n",
       "      <td>14900000.0</td>\n",
       "      <td>3.160000e-19</td>\n",
       "      <td>753.0</td>\n",
       "      <td>15.8</td>\n",
       "    </tr>\n",
       "    <tr>\n",
       "      <th>40</th>\n",
       "      <td>10500000.0</td>\n",
       "      <td>3.110000e-19</td>\n",
       "      <td>791.0</td>\n",
       "      <td>19.8</td>\n",
       "    </tr>\n",
       "    <tr>\n",
       "      <th>41</th>\n",
       "      <td>6590000.0</td>\n",
       "      <td>3.120000e-19</td>\n",
       "      <td>665.0</td>\n",
       "      <td>18.1</td>\n",
       "    </tr>\n",
       "    <tr>\n",
       "      <th>42</th>\n",
       "      <td>9570000.0</td>\n",
       "      <td>3.060000e-19</td>\n",
       "      <td>523.0</td>\n",
       "      <td>20.1</td>\n",
       "    </tr>\n",
       "    <tr>\n",
       "      <th>43</th>\n",
       "      <td>20400000.0</td>\n",
       "      <td>3.160000e-19</td>\n",
       "      <td>631.0</td>\n",
       "      <td>15.9</td>\n",
       "    </tr>\n",
       "    <tr>\n",
       "      <th>44</th>\n",
       "      <td>8320000.0</td>\n",
       "      <td>3.150000e-19</td>\n",
       "      <td>717.0</td>\n",
       "      <td>17.4</td>\n",
       "    </tr>\n",
       "    <tr>\n",
       "      <th>45</th>\n",
       "      <td>7960000.0</td>\n",
       "      <td>3.110000e-19</td>\n",
       "      <td>625.0</td>\n",
       "      <td>18.7</td>\n",
       "    </tr>\n",
       "    <tr>\n",
       "      <th>46</th>\n",
       "      <td>12200000.0</td>\n",
       "      <td>3.110000e-19</td>\n",
       "      <td>744.0</td>\n",
       "      <td>15.8</td>\n",
       "    </tr>\n",
       "    <tr>\n",
       "      <th>47</th>\n",
       "      <td>9490000.0</td>\n",
       "      <td>3.110000e-19</td>\n",
       "      <td>768.0</td>\n",
       "      <td>19.6</td>\n",
       "    </tr>\n",
       "    <tr>\n",
       "      <th>48</th>\n",
       "      <td>20200000.0</td>\n",
       "      <td>3.050000e-19</td>\n",
       "      <td>789.0</td>\n",
       "      <td>15.6</td>\n",
       "    </tr>\n",
       "    <tr>\n",
       "      <th>49</th>\n",
       "      <td>10500000.0</td>\n",
       "      <td>3.150000e-19</td>\n",
       "      <td>771.0</td>\n",
       "      <td>21.0</td>\n",
       "    </tr>\n",
       "  </tbody>\n",
       "</table>\n",
       "</div>"
      ],
      "text/plain": [
       "      Residual          Q_cl  omega  i_sl\n",
       "0    9730000.0  3.050000e-19  578.0  18.8\n",
       "1   12100000.0  3.130000e-19  693.0  22.5\n",
       "2   15900000.0  3.130000e-19  765.0  24.8\n",
       "3   14000000.0  3.190000e-19  733.0  25.0\n",
       "4   19300000.0  3.170000e-19  508.0  16.8\n",
       "5   14200000.0  3.060000e-19  650.0  22.1\n",
       "6    8260000.0  3.070000e-19  559.0  17.2\n",
       "7   14400000.0  3.140000e-19  620.0  23.7\n",
       "8   17300000.0  3.080000e-19  586.0  15.2\n",
       "9   16200000.0  3.070000e-19  673.0  23.6\n",
       "10  10100000.0  3.130000e-19  747.0  20.1\n",
       "11  16700000.0  3.100000e-19  758.0  15.0\n",
       "12  13700000.0  3.140000e-19  640.0  23.4\n",
       "13  15600000.0  3.170000e-19  685.0  16.5\n",
       "14  15800000.0  3.090000e-19  608.0  15.5\n",
       "15   9760000.0  3.100000e-19  767.0  19.4\n",
       "16   7930000.0  3.130000e-19  678.0  17.5\n",
       "17  10800000.0  3.120000e-19  593.0  21.3\n",
       "18  12300000.0  3.190000e-19  722.0  23.0\n",
       "19  11500000.0  3.110000e-19  561.0  21.6\n",
       "20  10600000.0  3.180000e-19  541.0  21.1\n",
       "21  16900000.0  3.090000e-19  709.0  24.4\n",
       "22  17300000.0  3.200000e-19  786.0  16.2\n",
       "23   7200000.0  3.080000e-19  549.0  17.7\n",
       "24  13900000.0  3.100000e-19  698.0  22.8\n",
       "25   8730000.0  3.170000e-19  599.0  19.1\n",
       "26   9120000.0  3.170000e-19  636.0  21.8\n",
       "27   9390000.0  3.190000e-19  505.0  21.0\n",
       "28   9170000.0  3.180000e-19  533.0  21.9\n",
       "29   9400000.0  3.050000e-19  615.0  19.6\n",
       "30  17400000.0  3.060000e-19  729.0  23.9\n",
       "31  11900000.0  3.100000e-19  779.0  20.6\n",
       "32  14300000.0  3.080000e-19  516.0  23.0\n",
       "33   7080000.0  3.080000e-19  569.0  18.1\n",
       "34  14200000.0  3.150000e-19  793.0  24.2\n",
       "35  16600000.0  3.180000e-19  659.0  16.7\n",
       "36   8770000.0  3.160000e-19  606.0  18.4\n",
       "37   8240000.0  3.110000e-19  536.0  18.6\n",
       "38   9250000.0  3.140000e-19  706.0  20.4\n",
       "39  14900000.0  3.160000e-19  753.0  15.8\n",
       "40  10500000.0  3.110000e-19  791.0  19.8\n",
       "41   6590000.0  3.120000e-19  665.0  18.1\n",
       "42   9570000.0  3.060000e-19  523.0  20.1\n",
       "43  20400000.0  3.160000e-19  631.0  15.9\n",
       "44   8320000.0  3.150000e-19  717.0  17.4\n",
       "45   7960000.0  3.110000e-19  625.0  18.7\n",
       "46  12200000.0  3.110000e-19  744.0  15.8\n",
       "47   9490000.0  3.110000e-19  768.0  19.6\n",
       "48  20200000.0  3.050000e-19  789.0  15.6\n",
       "49  10500000.0  3.150000e-19  771.0  21.0"
      ]
     },
     "execution_count": 14,
     "metadata": {},
     "output_type": "execute_result"
    }
   ],
   "source": [
    "fitting_results[0:50]"
   ]
  },
  {
   "cell_type": "code",
   "execution_count": 61,
   "metadata": {},
   "outputs": [
    {
     "ename": "KeyError",
     "evalue": "'D_a'",
     "output_type": "error",
     "traceback": [
      "\u001b[0;31m---------------------------------------------------------------------------\u001b[0m",
      "\u001b[0;31mKeyError\u001b[0m                                  Traceback (most recent call last)",
      "\u001b[0;32m/usr/local/lib/python3.8/dist-packages/pandas/core/indexes/base.py\u001b[0m in \u001b[0;36mget_loc\u001b[0;34m(self, key, method, tolerance)\u001b[0m\n\u001b[1;32m   2894\u001b[0m             \u001b[0;32mtry\u001b[0m\u001b[0;34m:\u001b[0m\u001b[0;34m\u001b[0m\u001b[0;34m\u001b[0m\u001b[0m\n\u001b[0;32m-> 2895\u001b[0;31m                 \u001b[0;32mreturn\u001b[0m \u001b[0mself\u001b[0m\u001b[0;34m.\u001b[0m\u001b[0m_engine\u001b[0m\u001b[0;34m.\u001b[0m\u001b[0mget_loc\u001b[0m\u001b[0;34m(\u001b[0m\u001b[0mcasted_key\u001b[0m\u001b[0;34m)\u001b[0m\u001b[0;34m\u001b[0m\u001b[0;34m\u001b[0m\u001b[0m\n\u001b[0m\u001b[1;32m   2896\u001b[0m             \u001b[0;32mexcept\u001b[0m \u001b[0mKeyError\u001b[0m \u001b[0;32mas\u001b[0m \u001b[0merr\u001b[0m\u001b[0;34m:\u001b[0m\u001b[0;34m\u001b[0m\u001b[0;34m\u001b[0m\u001b[0m\n",
      "\u001b[0;32mpandas/_libs/index.pyx\u001b[0m in \u001b[0;36mpandas._libs.index.IndexEngine.get_loc\u001b[0;34m()\u001b[0m\n",
      "\u001b[0;32mpandas/_libs/index.pyx\u001b[0m in \u001b[0;36mpandas._libs.index.IndexEngine.get_loc\u001b[0;34m()\u001b[0m\n",
      "\u001b[0;32mpandas/_libs/hashtable_class_helper.pxi\u001b[0m in \u001b[0;36mpandas._libs.hashtable.PyObjectHashTable.get_item\u001b[0;34m()\u001b[0m\n",
      "\u001b[0;32mpandas/_libs/hashtable_class_helper.pxi\u001b[0m in \u001b[0;36mpandas._libs.hashtable.PyObjectHashTable.get_item\u001b[0;34m()\u001b[0m\n",
      "\u001b[0;31mKeyError\u001b[0m: 'D_a'",
      "\nThe above exception was the direct cause of the following exception:\n",
      "\u001b[0;31mKeyError\u001b[0m                                  Traceback (most recent call last)",
      "\u001b[0;32m<ipython-input-61-51fe0865dd60>\u001b[0m in \u001b[0;36m<module>\u001b[0;34m\u001b[0m\n\u001b[0;32m----> 1\u001b[0;31m \u001b[0mplt\u001b[0m\u001b[0;34m.\u001b[0m\u001b[0mscatter\u001b[0m\u001b[0;34m(\u001b[0m\u001b[0mfitting_results\u001b[0m\u001b[0;34m[\u001b[0m\u001b[0;34m'D_a'\u001b[0m\u001b[0;34m]\u001b[0m\u001b[0;34m,\u001b[0m\u001b[0mfitting_results\u001b[0m\u001b[0;34m[\u001b[0m\u001b[0;34m'Q_cl'\u001b[0m\u001b[0;34m]\u001b[0m\u001b[0;34m,\u001b[0m\u001b[0mc\u001b[0m\u001b[0;34m=\u001b[0m\u001b[0mnp\u001b[0m\u001b[0;34m.\u001b[0m\u001b[0mlog\u001b[0m\u001b[0;34m(\u001b[0m\u001b[0mfitting_results\u001b[0m\u001b[0;34m[\u001b[0m\u001b[0;34m'Residual'\u001b[0m\u001b[0;34m]\u001b[0m\u001b[0;34m)\u001b[0m\u001b[0;34m)\u001b[0m\u001b[0;34m\u001b[0m\u001b[0;34m\u001b[0m\u001b[0m\n\u001b[0m\u001b[1;32m      2\u001b[0m \u001b[0mplt\u001b[0m\u001b[0;34m.\u001b[0m\u001b[0mxlabel\u001b[0m\u001b[0;34m(\u001b[0m\u001b[0;34m'D_a'\u001b[0m\u001b[0;34m)\u001b[0m\u001b[0;34m\u001b[0m\u001b[0;34m\u001b[0m\u001b[0m\n\u001b[1;32m      3\u001b[0m \u001b[0mplt\u001b[0m\u001b[0;34m.\u001b[0m\u001b[0mylabel\u001b[0m\u001b[0;34m(\u001b[0m\u001b[0;34m'Q_cl'\u001b[0m\u001b[0;34m)\u001b[0m\u001b[0;34m\u001b[0m\u001b[0;34m\u001b[0m\u001b[0m\n\u001b[1;32m      4\u001b[0m \u001b[0mplt\u001b[0m\u001b[0;34m.\u001b[0m\u001b[0mcolorbar\u001b[0m\u001b[0;34m(\u001b[0m\u001b[0;34m)\u001b[0m\u001b[0;34m\u001b[0m\u001b[0;34m\u001b[0m\u001b[0m\n",
      "\u001b[0;32m/usr/local/lib/python3.8/dist-packages/pandas/core/frame.py\u001b[0m in \u001b[0;36m__getitem__\u001b[0;34m(self, key)\u001b[0m\n\u001b[1;32m   2904\u001b[0m             \u001b[0;32mif\u001b[0m \u001b[0mself\u001b[0m\u001b[0;34m.\u001b[0m\u001b[0mcolumns\u001b[0m\u001b[0;34m.\u001b[0m\u001b[0mnlevels\u001b[0m \u001b[0;34m>\u001b[0m \u001b[0;36m1\u001b[0m\u001b[0;34m:\u001b[0m\u001b[0;34m\u001b[0m\u001b[0;34m\u001b[0m\u001b[0m\n\u001b[1;32m   2905\u001b[0m                 \u001b[0;32mreturn\u001b[0m \u001b[0mself\u001b[0m\u001b[0;34m.\u001b[0m\u001b[0m_getitem_multilevel\u001b[0m\u001b[0;34m(\u001b[0m\u001b[0mkey\u001b[0m\u001b[0;34m)\u001b[0m\u001b[0;34m\u001b[0m\u001b[0;34m\u001b[0m\u001b[0m\n\u001b[0;32m-> 2906\u001b[0;31m             \u001b[0mindexer\u001b[0m \u001b[0;34m=\u001b[0m \u001b[0mself\u001b[0m\u001b[0;34m.\u001b[0m\u001b[0mcolumns\u001b[0m\u001b[0;34m.\u001b[0m\u001b[0mget_loc\u001b[0m\u001b[0;34m(\u001b[0m\u001b[0mkey\u001b[0m\u001b[0;34m)\u001b[0m\u001b[0;34m\u001b[0m\u001b[0;34m\u001b[0m\u001b[0m\n\u001b[0m\u001b[1;32m   2907\u001b[0m             \u001b[0;32mif\u001b[0m \u001b[0mis_integer\u001b[0m\u001b[0;34m(\u001b[0m\u001b[0mindexer\u001b[0m\u001b[0;34m)\u001b[0m\u001b[0;34m:\u001b[0m\u001b[0;34m\u001b[0m\u001b[0;34m\u001b[0m\u001b[0m\n\u001b[1;32m   2908\u001b[0m                 \u001b[0mindexer\u001b[0m \u001b[0;34m=\u001b[0m \u001b[0;34m[\u001b[0m\u001b[0mindexer\u001b[0m\u001b[0;34m]\u001b[0m\u001b[0;34m\u001b[0m\u001b[0;34m\u001b[0m\u001b[0m\n",
      "\u001b[0;32m/usr/local/lib/python3.8/dist-packages/pandas/core/indexes/base.py\u001b[0m in \u001b[0;36mget_loc\u001b[0;34m(self, key, method, tolerance)\u001b[0m\n\u001b[1;32m   2895\u001b[0m                 \u001b[0;32mreturn\u001b[0m \u001b[0mself\u001b[0m\u001b[0;34m.\u001b[0m\u001b[0m_engine\u001b[0m\u001b[0;34m.\u001b[0m\u001b[0mget_loc\u001b[0m\u001b[0;34m(\u001b[0m\u001b[0mcasted_key\u001b[0m\u001b[0;34m)\u001b[0m\u001b[0;34m\u001b[0m\u001b[0;34m\u001b[0m\u001b[0m\n\u001b[1;32m   2896\u001b[0m             \u001b[0;32mexcept\u001b[0m \u001b[0mKeyError\u001b[0m \u001b[0;32mas\u001b[0m \u001b[0merr\u001b[0m\u001b[0;34m:\u001b[0m\u001b[0;34m\u001b[0m\u001b[0;34m\u001b[0m\u001b[0m\n\u001b[0;32m-> 2897\u001b[0;31m                 \u001b[0;32mraise\u001b[0m \u001b[0mKeyError\u001b[0m\u001b[0;34m(\u001b[0m\u001b[0mkey\u001b[0m\u001b[0;34m)\u001b[0m \u001b[0;32mfrom\u001b[0m \u001b[0merr\u001b[0m\u001b[0;34m\u001b[0m\u001b[0;34m\u001b[0m\u001b[0m\n\u001b[0m\u001b[1;32m   2898\u001b[0m \u001b[0;34m\u001b[0m\u001b[0m\n\u001b[1;32m   2899\u001b[0m         \u001b[0;32mif\u001b[0m \u001b[0mtolerance\u001b[0m \u001b[0;32mis\u001b[0m \u001b[0;32mnot\u001b[0m \u001b[0;32mNone\u001b[0m\u001b[0;34m:\u001b[0m\u001b[0;34m\u001b[0m\u001b[0;34m\u001b[0m\u001b[0m\n",
      "\u001b[0;31mKeyError\u001b[0m: 'D_a'"
     ]
    }
   ],
   "source": [
    "plt.scatter(fitting_results['D_a'],fitting_results['Q_cl'],c=np.log(fitting_results['Residual']))\n",
    "plt.xlabel('D_a')\n",
    "plt.ylabel('Q_cl')\n",
    "plt.colorbar()"
   ]
  },
  {
   "cell_type": "code",
   "execution_count": 15,
   "metadata": {},
   "outputs": [
    {
     "data": {
      "text/plain": [
       "<matplotlib.colorbar.Colorbar at 0x14e250aca310>"
      ]
     },
     "execution_count": 15,
     "metadata": {},
     "output_type": "execute_result"
    },
    {
     "data": {
      "image/png": "[encoded data removed]",
      "text/plain": [
       "<Figure size 432x288 with 2 Axes>"
      ]
     },
     "metadata": {
      "needs_background": "light"
     },
     "output_type": "display_data"
    }
   ],
   "source": [
    "plt.scatter(fitting_results['Q_cl'],fitting_results['omega'],c=np.log(fitting_results['Residual']),cmap='Spectral')\n",
    "plt.xlabel('Q_cl')\n",
    "plt.ylabel('omega')\n",
    "plt.colorbar()"
   ]
  },
  {
   "cell_type": "code",
   "execution_count": 16,
   "metadata": {},
   "outputs": [
    {
     "data": {
      "text/plain": [
       "<matplotlib.colorbar.Colorbar at 0x14e298805880>"
      ]
     },
     "execution_count": 16,
     "metadata": {},
     "output_type": "execute_result"
    },
    {
     "data": {
      "image/png": "[encoded data removed]",
      "text/plain": [
       "<Figure size 432x288 with 2 Axes>"
      ]
     },
     "metadata": {
      "needs_background": "light"
     },
     "output_type": "display_data"
    }
   ],
   "source": [
    "plt.scatter(fitting_results['Q_cl'],fitting_results['i_sl'],c=np.log(fitting_results['Residual']),cmap='Spectral')\n",
    "plt.xlabel('Q_cl')\n",
    "plt.ylabel('i_sl')\n",
    "plt.colorbar()"
   ]
  },
  {
   "cell_type": "code",
   "execution_count": 17,
   "metadata": {},
   "outputs": [
    {
     "data": {
      "text/plain": [
       "<matplotlib.colorbar.Colorbar at 0x14e2509d99a0>"
      ]
     },
     "execution_count": 17,
     "metadata": {},
     "output_type": "execute_result"
    },
    {
     "data": {
      "image/png": "[encoded data removed]",
      "text/plain": [
       "<Figure size 432x288 with 2 Axes>"
      ]
     },
     "metadata": {
      "needs_background": "light"
     },
     "output_type": "display_data"
    }
   ],
   "source": [
    "plt.scatter(fitting_results['omega'],fitting_results['i_sl'],c=np.log(fitting_results['Residual']),cmap='Spectral')\n",
    "plt.xlabel('omega')\n",
    "plt.ylabel('i_sl')\n",
    "plt.colorbar()"
   ]
  },
  {
   "cell_type": "code",
   "execution_count": 14,
   "metadata": {},
   "outputs": [],
   "source": [
    "f = h5py.File('3D_random_tensionX.hdf5','r')"
   ]
  },
  {
   "cell_type": "code",
   "execution_count": 16,
   "metadata": {},
   "outputs": [
    {
     "data": {
      "text/plain": [
       "<KeysViewHDF5 ['geometry', 'inc0', 'inc10', 'inc100', 'inc1000', 'inc110', 'inc1100', 'inc120', 'inc1200', 'inc130', 'inc1300', 'inc140', 'inc1400', 'inc150', 'inc1500', 'inc160', 'inc1600', 'inc170', 'inc1700', 'inc180', 'inc1800', 'inc190', 'inc1900', 'inc20', 'inc200', 'inc2000', 'inc210', 'inc2100', 'inc220', 'inc2200', 'inc230', 'inc2300', 'inc240', 'inc2400', 'inc250', 'inc2500', 'inc260', 'inc270', 'inc280', 'inc290', 'inc30', 'inc300', 'inc310', 'inc320', 'inc330', 'inc340', 'inc350', 'inc360', 'inc370', 'inc380', 'inc390', 'inc40', 'inc400', 'inc410', 'inc420', 'inc430', 'inc440', 'inc450', 'inc460', 'inc470', 'inc480', 'inc490', 'inc50', 'inc500', 'inc60', 'inc600', 'inc70', 'inc700', 'inc80', 'inc800', 'inc90', 'inc900', 'mapping']>"
      ]
     },
     "execution_count": 16,
     "metadata": {},
     "output_type": "execute_result"
    }
   ],
   "source": [
    "f.keys()"
   ]
  },
  {
   "cell_type": "code",
   "execution_count": 17,
   "metadata": {},
   "outputs": [],
   "source": [
    "rho_dip = np.array(f['/inc2500/phase/Austenite/plastic/rho_dip'])\n",
    "rho_mob = np.array(f['/inc2500/phase/Austenite/plastic/rho_mob'])"
   ]
  },
  {
   "cell_type": "code",
   "execution_count": 18,
   "metadata": {},
   "outputs": [
    {
     "data": {
      "text/plain": [
       "215316847485095.7"
      ]
     },
     "execution_count": 18,
     "metadata": {},
     "output_type": "execute_result"
    }
   ],
   "source": [
    "np.average(np.sum(np.concatenate((rho_dip,rho_mob),axis=1),axis=1))"
   ]
  },
  {
   "cell_type": "code",
   "execution_count": 19,
   "metadata": {},
   "outputs": [],
   "source": [
    "rows,columns = np.where(rho_dip < 1E10)"
   ]
  },
  {
   "cell_type": "code",
   "execution_count": 20,
   "metadata": {},
   "outputs": [
    {
     "data": {
      "text/plain": [
       "array([[6.96612971e+10, 4.24813759e+10, 4.29371477e+10, ...,\n",
       "        8.69969316e+10, 1.53187001e+13, 2.15921909e+13],\n",
       "       [1.28253980e+10, 3.18485457e+10, 4.58376486e+10, ...,\n",
       "        7.86649738e+10, 5.73335301e+13, 7.34912929e+13],\n",
       "       [1.28253980e+10, 3.18485457e+10, 4.58376486e+10, ...,\n",
       "        7.86649738e+10, 5.73335301e+13, 7.34912929e+13],\n",
       "       ...,\n",
       "       [4.74279499e+10, 4.90157480e+13, 2.56587917e+10, ...,\n",
       "        1.06488217e+12, 2.07104756e+09, 2.74203874e+08],\n",
       "       [4.74279499e+10, 4.90157480e+13, 2.56587917e+10, ...,\n",
       "        1.06488217e+12, 2.07104756e+09, 2.74203874e+08],\n",
       "       [4.74279499e+10, 4.90157480e+13, 2.56587917e+10, ...,\n",
       "        1.06488217e+12, 2.07104756e+09, 2.74203874e+08]])"
      ]
     },
     "execution_count": 20,
     "metadata": {},
     "output_type": "execute_result"
    }
   ],
   "source": [
    "rho_dip[rows]"
   ]
  },
  {
   "cell_type": "code",
   "execution_count": 21,
   "metadata": {},
   "outputs": [],
   "source": [
    "tot_dip = np.sum(rho_dip,axis=1)"
   ]
  },
  {
   "cell_type": "code",
   "execution_count": 24,
   "metadata": {},
   "outputs": [
    {
     "data": {
      "text/plain": [
       "(array([], dtype=int64),)"
      ]
     },
     "execution_count": 24,
     "metadata": {},
     "output_type": "execute_result"
    }
   ],
   "source": [
    "np.where(tot_dip < 12*1E11)"
   ]
  },
  {
   "cell_type": "code",
   "execution_count": 25,
   "metadata": {},
   "outputs": [],
   "source": [
    "tot_density = np.sum(np.concatenate((rho_dip,rho_mob),axis=1),axis=1)"
   ]
  },
  {
   "cell_type": "code",
   "execution_count": 26,
   "metadata": {},
   "outputs": [
    {
     "data": {
      "text/plain": [
       "(array([], dtype=int64),)"
      ]
     },
     "execution_count": 26,
     "metadata": {},
     "output_type": "execute_result"
    }
   ],
   "source": [
    "np.where(tot_density < 24*1E11)"
   ]
  },
  {
   "cell_type": "code",
   "execution_count": 135,
   "metadata": {},
   "outputs": [
    {
     "data": {
      "text/plain": [
       "77360932202.47174"
      ]
     },
     "execution_count": 135,
     "metadata": {},
     "output_type": "execute_result"
    }
   ],
   "source": [
    "tot_dip[4]"
   ]
  },
  {
   "cell_type": "code",
   "execution_count": null,
   "metadata": {},
   "outputs": [],
   "source": []
  }
 ],
 "metadata": {
  "kernelspec": {
   "display_name": "Python 3",
   "language": "python",
   "name": "python3"
  },
  "language_info": {
   "codemirror_mode": {
    "name": "ipython",
    "version": 3
   },
   "file_extension": ".py",
   "mimetype": "text/x-python",
   "name": "python",
   "nbconvert_exporter": "python",
   "pygments_lexer": "ipython3",
   "version": "3.8.10"
  }
 },
 "nbformat": 4,
 "nbformat_minor": 4
}
